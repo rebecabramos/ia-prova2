{
 "cells": [
  {
   "cell_type": "code",
   "execution_count": 1,
   "metadata": {},
   "outputs": [],
   "source": [
    "import numpy as np\n",
    "import pandas as pd\n",
    "import matplotlib.pyplot as plt\n",
    "import seaborn as sns\n",
    "\n",
    "from sklearn import preprocessing, metrics\n",
    "from sklearn.cluster import KMeans, AgglomerativeClustering\n",
    "\n",
    "import warnings\n",
    "warnings.filterwarnings('ignore')"
   ]
  },
  {
   "cell_type": "code",
   "execution_count": 2,
   "metadata": {},
   "outputs": [
    {
     "data": {
      "text/plain": [
       "Unnamed: 0                      0\n",
       "Alcohol                         0\n",
       "Malic_acid                      0\n",
       "Ash                             0\n",
       "Alcalinity_of_ash               0\n",
       "Magnesium                       0\n",
       "Total_phenols                   0\n",
       "Flavanoids                      0\n",
       "Nonflavanoid_phenols            0\n",
       "Proanthocyanins                 0\n",
       "Color_intensity                 0\n",
       "Hue                             0\n",
       "OD280/OD315_of_diluted_wines    0\n",
       "Proline                         0\n",
       "dtype: int64"
      ]
     },
     "execution_count": 2,
     "metadata": {},
     "output_type": "execute_result"
    }
   ],
   "source": [
    "train_df = pd.read_csv(\"datasets/wine.csv\", encoding='utf-8')\n",
    "\n",
    "train_df.isnull().sum()"
   ]
  },
  {
   "cell_type": "markdown",
   "metadata": {},
   "source": [
    "# Limpeza dos Dados\n",
    "A base não possui células vazias. Entretanto, a base possui uma coluna 'Unnamed: 0' refente aos 'indices' que pode ser retirada pois não precisar ser analizada."
   ]
  },
  {
   "cell_type": "code",
   "execution_count": 3,
   "metadata": {},
   "outputs": [],
   "source": [
    "train_df.drop(['Unnamed: 0'], axis=1, inplace = True)"
   ]
  },
  {
   "cell_type": "code",
   "execution_count": 4,
   "metadata": {},
   "outputs": [],
   "source": [
    "train_df = train_df._get_numeric_data()"
   ]
  },
  {
   "cell_type": "markdown",
   "metadata": {},
   "source": [
    "## A base não possui colunas textuais\n",
    "Sendo assim não se faz necessária transformações"
   ]
  },
  {
   "cell_type": "markdown",
   "metadata": {},
   "source": [
    "# Analisando os Dados\n",
    "Foram plotados histogramas para melhor entender a frequencia dos valores de cada classe."
   ]
  },
  {
   "cell_type": "code",
   "execution_count": 5,
   "metadata": {},
   "outputs": [
    {
     "name": "stdout",
     "output_type": "stream",
     "text": [
      "12.37    6\n",
      "13.05    6\n",
      "12.08    5\n",
      "12.29    4\n",
      "12.00    3\n",
      "        ..\n",
      "13.34    1\n",
      "13.69    1\n",
      "13.90    1\n",
      "13.84    1\n",
      "13.75    1\n",
      "Name: Alcohol, Length: 126, dtype: int64\n"
     ]
    },
    {
     "data": {
      "text/plain": [
       "<AxesSubplot:ylabel='Frequency'>"
      ]
     },
     "execution_count": 5,
     "metadata": {},
     "output_type": "execute_result"
    },
    {
     "data": {
      "image/png": "[encoded data removed]",
      "text/plain": [
       "<Figure size 432x288 with 1 Axes>"
      ]
     },
     "metadata": {
      "needs_background": "light"
     },
     "output_type": "display_data"
    }
   ],
   "source": [
    "print(train_df['Alcohol'].value_counts())\n",
    "train_df['Alcohol'].plot(kind='hist')"
   ]
  },
  {
   "cell_type": "markdown",
   "metadata": {},
   "source": [
    "É peceptivel pelo histograma acima que a maior parte das amostras de alcool está entre 12.0 e 14.0."
   ]
  },
  {
   "cell_type": "code",
   "execution_count": 6,
   "metadata": {},
   "outputs": [
    {
     "name": "stdout",
     "output_type": "stream",
     "text": [
      "1.73    7\n",
      "1.81    4\n",
      "1.67    4\n",
      "1.68    3\n",
      "1.61    3\n",
      "       ..\n",
      "3.45    1\n",
      "2.51    1\n",
      "4.61    1\n",
      "3.83    1\n",
      "2.68    1\n",
      "Name: Malic_acid, Length: 133, dtype: int64\n"
     ]
    },
    {
     "data": {
      "text/plain": [
       "<AxesSubplot:ylabel='Frequency'>"
      ]
     },
     "execution_count": 6,
     "metadata": {},
     "output_type": "execute_result"
    },
    {
     "data": {
      "image/png": "[encoded data removed]",
      "text/plain": [
       "<Figure size 432x288 with 1 Axes>"
      ]
     },
     "metadata": {
      "needs_background": "light"
     },
     "output_type": "display_data"
    }
   ],
   "source": [
    "print(train_df['Malic_acid'].value_counts())\n",
    "train_df['Malic_acid'].plot(kind='hist')"
   ]
  },
  {
   "cell_type": "markdown",
   "metadata": {},
   "source": [
    "Neste existe um pico nas amostras de aproximadamente 1.3 e 1.9."
   ]
  },
  {
   "cell_type": "code",
   "execution_count": 7,
   "metadata": {},
   "outputs": [
    {
     "name": "stdout",
     "output_type": "stream",
     "text": [
      "2.30    7\n",
      "2.28    7\n",
      "2.70    6\n",
      "2.36    6\n",
      "2.32    6\n",
      "       ..\n",
      "2.16    1\n",
      "2.78    1\n",
      "2.53    1\n",
      "1.71    1\n",
      "1.95    1\n",
      "Name: Ash, Length: 79, dtype: int64\n"
     ]
    },
    {
     "data": {
      "text/plain": [
       "<AxesSubplot:ylabel='Frequency'>"
      ]
     },
     "execution_count": 7,
     "metadata": {},
     "output_type": "execute_result"
    },
    {
     "data": {
      "image/png": "[encoded data removed]",
      "text/plain": [
       "<Figure size 432x288 with 1 Axes>"
      ]
     },
     "metadata": {
      "needs_background": "light"
     },
     "output_type": "display_data"
    }
   ],
   "source": [
    "print(train_df['Ash'].value_counts())\n",
    "train_df['Ash'].plot(kind='hist')"
   ]
  },
  {
   "cell_type": "markdown",
   "metadata": {},
   "source": [
    "Neste percebemos um crescimento até  aproximadamente 2.3 e declinio a partir de aproximadamente 2.4."
   ]
  },
  {
   "cell_type": "code",
   "execution_count": 8,
   "metadata": {},
   "outputs": [
    {
     "name": "stdout",
     "output_type": "stream",
     "text": [
      "20.0    15\n",
      "21.0    11\n",
      "16.0    11\n",
      "18.0    10\n",
      "19.0     9\n",
      "        ..\n",
      "19.4     1\n",
      "11.2     1\n",
      "21.6     1\n",
      "18.1     1\n",
      "14.8     1\n",
      "Name: Alcalinity_of_ash, Length: 63, dtype: int64\n"
     ]
    },
    {
     "data": {
      "text/plain": [
       "<AxesSubplot:ylabel='Frequency'>"
      ]
     },
     "execution_count": 8,
     "metadata": {},
     "output_type": "execute_result"
    },
    {
     "data": {
      "image/png": "[encoded data removed]",
      "text/plain": [
       "<Figure size 432x288 with 1 Axes>"
      ]
     },
     "metadata": {
      "needs_background": "light"
     },
     "output_type": "display_data"
    }
   ],
   "source": [
    "print(train_df['Alcalinity_of_ash'].value_counts())\n",
    "train_df['Alcalinity_of_ash'].plot(kind='hist')"
   ]
  },
  {
   "cell_type": "markdown",
   "metadata": {},
   "source": [
    "Ao analisar este histograma percebe-se que existe um pequeno declinio antes do crescimento e logo após decrescer. Nota-se também, um pico mais evidente onde tem maior quantidade de amostras entre aproximadamente 17.6 e 20.0. "
   ]
  },
  {
   "cell_type": "code",
   "execution_count": 9,
   "metadata": {},
   "outputs": [
    {
     "name": "stdout",
     "output_type": "stream",
     "text": [
      "88     13\n",
      "86     11\n",
      "101     9\n",
      "98      9\n",
      "96      8\n",
      "102     7\n",
      "112     6\n",
      "94      6\n",
      "85      6\n",
      "97      5\n",
      "80      5\n",
      "92      5\n",
      "103     5\n",
      "89      5\n",
      "90      4\n",
      "108     4\n",
      "107     4\n",
      "106     4\n",
      "120     3\n",
      "118     3\n",
      "116     3\n",
      "87      3\n",
      "100     3\n",
      "84      3\n",
      "111     3\n",
      "110     3\n",
      "78      3\n",
      "104     3\n",
      "95      3\n",
      "105     2\n",
      "93      2\n",
      "113     2\n",
      "91      2\n",
      "115     2\n",
      "82      1\n",
      "81      1\n",
      "162     1\n",
      "99      1\n",
      "151     1\n",
      "117     1\n",
      "119     1\n",
      "121     1\n",
      "122     1\n",
      "123     1\n",
      "124     1\n",
      "126     1\n",
      "127     1\n",
      "128     1\n",
      "132     1\n",
      "134     1\n",
      "136     1\n",
      "139     1\n",
      "70      1\n",
      "Name: Magnesium, dtype: int64\n"
     ]
    },
    {
     "data": {
      "text/plain": [
       "<AxesSubplot:ylabel='Frequency'>"
      ]
     },
     "execution_count": 9,
     "metadata": {},
     "output_type": "execute_result"
    },
    {
     "data": {
      "image/png": "[encoded data removed]",
      "text/plain": [
       "<Figure size 432x288 with 1 Axes>"
      ]
     },
     "metadata": {
      "needs_background": "light"
     },
     "output_type": "display_data"
    }
   ],
   "source": [
    "print(train_df['Magnesium'].value_counts())\n",
    "train_df['Magnesium'].plot(kind='hist')"
   ]
  },
  {
   "cell_type": "markdown",
   "metadata": {},
   "source": [
    "Fica claro que existe uma concentração das amostras entre 80 à 105."
   ]
  },
  {
   "cell_type": "code",
   "execution_count": 10,
   "metadata": {},
   "outputs": [
    {
     "name": "stdout",
     "output_type": "stream",
     "text": [
      "2.20    8\n",
      "3.00    6\n",
      "2.80    6\n",
      "2.60    6\n",
      "2.00    5\n",
      "       ..\n",
      "2.90    1\n",
      "2.02    1\n",
      "3.27    1\n",
      "2.83    1\n",
      "1.93    1\n",
      "Name: Total_phenols, Length: 97, dtype: int64\n"
     ]
    },
    {
     "data": {
      "text/plain": [
       "<AxesSubplot:ylabel='Frequency'>"
      ]
     },
     "execution_count": 10,
     "metadata": {},
     "output_type": "execute_result"
    },
    {
     "data": {
      "image/png": "[encoded data removed]",
      "text/plain": [
       "<Figure size 432x288 with 1 Axes>"
      ]
     },
     "metadata": {
      "needs_background": "light"
     },
     "output_type": "display_data"
    }
   ],
   "source": [
    "print(train_df['Total_phenols'].value_counts())\n",
    "train_df['Total_phenols'].plot(kind='hist')"
   ]
  },
  {
   "cell_type": "markdown",
   "metadata": {},
   "source": [
    "Existem oscilações no gráfico, entretanto é bastante perceptivel que as amostras estão concentradas entre aproximadamente 1.4 e 2.9."
   ]
  },
  {
   "cell_type": "code",
   "execution_count": 11,
   "metadata": {},
   "outputs": [
    {
     "name": "stdout",
     "output_type": "stream",
     "text": [
      "2.65    4\n",
      "0.58    3\n",
      "2.68    3\n",
      "0.60    3\n",
      "1.25    3\n",
      "       ..\n",
      "2.78    1\n",
      "1.02    1\n",
      "1.30    1\n",
      "2.90    1\n",
      "3.25    1\n",
      "Name: Flavanoids, Length: 132, dtype: int64\n"
     ]
    },
    {
     "data": {
      "text/plain": [
       "<AxesSubplot:ylabel='Frequency'>"
      ]
     },
     "execution_count": 11,
     "metadata": {},
     "output_type": "execute_result"
    },
    {
     "data": {
      "image/png": "[encoded data removed]",
      "text/plain": [
       "<Figure size 432x288 with 1 Axes>"
      ]
     },
     "metadata": {
      "needs_background": "light"
     },
     "output_type": "display_data"
    }
   ],
   "source": [
    "print(train_df['Flavanoids'].value_counts())\n",
    "train_df['Flavanoids'].plot(kind='hist')"
   ]
  },
  {
   "cell_type": "markdown",
   "metadata": {},
   "source": [
    "O que chama mais atenção neste histograma é que percebemos que não existem amostras de aproximadamente 4.1 até 4.5."
   ]
  },
  {
   "cell_type": "code",
   "execution_count": 12,
   "metadata": {},
   "outputs": [
    {
     "name": "stdout",
     "output_type": "stream",
     "text": [
      "0.26    11\n",
      "0.43    11\n",
      "0.29    10\n",
      "0.32     9\n",
      "0.30     8\n",
      "0.37     8\n",
      "0.34     8\n",
      "0.27     8\n",
      "0.40     8\n",
      "0.24     7\n",
      "0.53     7\n",
      "0.21     6\n",
      "0.22     6\n",
      "0.28     5\n",
      "0.39     5\n",
      "0.17     5\n",
      "0.50     5\n",
      "0.52     5\n",
      "0.47     4\n",
      "0.42     4\n",
      "0.48     4\n",
      "0.63     4\n",
      "0.58     3\n",
      "0.60     3\n",
      "0.45     3\n",
      "0.61     3\n",
      "0.14     2\n",
      "0.19     2\n",
      "0.25     2\n",
      "0.20     2\n",
      "0.31     2\n",
      "0.55     1\n",
      "0.41     1\n",
      "0.66     1\n",
      "0.56     1\n",
      "0.13     1\n",
      "0.44     1\n",
      "0.33     1\n",
      "0.35     1\n",
      "Name: Nonflavanoid_phenols, dtype: int64\n"
     ]
    },
    {
     "data": {
      "text/plain": [
       "<AxesSubplot:ylabel='Frequency'>"
      ]
     },
     "execution_count": 12,
     "metadata": {},
     "output_type": "execute_result"
    },
    {
     "data": {
      "image/png": "[encoded data removed]",
      "text/plain": [
       "<Figure size 432x288 with 1 Axes>"
      ]
     },
     "metadata": {
      "needs_background": "light"
     },
     "output_type": "display_data"
    }
   ],
   "source": [
    "print(train_df['Nonflavanoid_phenols'].value_counts())\n",
    "train_df['Nonflavanoid_phenols'].plot(kind='hist')"
   ]
  },
  {
   "cell_type": "markdown",
   "metadata": {},
   "source": [
    "O gráfico possui dois picos de crescimento das amostras o primeiro em aproximadamente 0.25 até 0.3 e o segundo entre aproximadamente 0.39 e 0.4."
   ]
  },
  {
   "cell_type": "code",
   "execution_count": 13,
   "metadata": {},
   "outputs": [
    {
     "name": "stdout",
     "output_type": "stream",
     "text": [
      "1.35    9\n",
      "1.46    7\n",
      "1.87    6\n",
      "1.25    5\n",
      "1.56    4\n",
      "       ..\n",
      "1.53    1\n",
      "0.68    1\n",
      "1.72    1\n",
      "1.71    1\n",
      "0.88    1\n",
      "Name: Proanthocyanins, Length: 101, dtype: int64\n"
     ]
    },
    {
     "data": {
      "text/plain": [
       "<AxesSubplot:ylabel='Frequency'>"
      ]
     },
     "execution_count": 13,
     "metadata": {},
     "output_type": "execute_result"
    },
    {
     "data": {
      "image/png": "[encoded data removed]",
      "text/plain": [
       "<Figure size 432x288 with 1 Axes>"
      ]
     },
     "metadata": {
      "needs_background": "light"
     },
     "output_type": "display_data"
    }
   ],
   "source": [
    "print(train_df['Proanthocyanins'].value_counts())\n",
    "train_df['Proanthocyanins'].plot(kind='hist')"
   ]
  },
  {
   "cell_type": "markdown",
   "metadata": {},
   "source": [
    "A maior parte das amostras está concentrada entre 0.55 e 1.9 aproximadamente."
   ]
  },
  {
   "cell_type": "code",
   "execution_count": 14,
   "metadata": {},
   "outputs": [
    {
     "name": "stdout",
     "output_type": "stream",
     "text": [
      "2.60    4\n",
      "4.60    4\n",
      "3.80    4\n",
      "3.40    3\n",
      "3.05    3\n",
      "       ..\n",
      "3.21    1\n",
      "6.90    1\n",
      "7.80    1\n",
      "5.20    1\n",
      "6.75    1\n",
      "Name: Color_intensity, Length: 132, dtype: int64\n"
     ]
    },
    {
     "data": {
      "text/plain": [
       "<AxesSubplot:ylabel='Frequency'>"
      ]
     },
     "execution_count": 14,
     "metadata": {},
     "output_type": "execute_result"
    },
    {
     "data": {
      "image/png": "[encoded data removed]",
      "text/plain": [
       "<Figure size 432x288 with 1 Axes>"
      ]
     },
     "metadata": {
      "needs_background": "light"
     },
     "output_type": "display_data"
    }
   ],
   "source": [
    "print(train_df['Color_intensity'].value_counts())\n",
    "train_df['Color_intensity'].plot(kind='hist')"
   ]
  },
  {
   "cell_type": "markdown",
   "metadata": {},
   "source": [
    "A maior parte das amostras estão entre 2.6 e 5.9 aproximadamente, em seguida o número de amostras vai diminuindo."
   ]
  },
  {
   "cell_type": "code",
   "execution_count": 15,
   "metadata": {},
   "outputs": [
    {
     "name": "stdout",
     "output_type": "stream",
     "text": [
      "1.04    8\n",
      "1.23    7\n",
      "1.12    6\n",
      "0.89    5\n",
      "0.57    5\n",
      "       ..\n",
      "1.17    1\n",
      "0.55    1\n",
      "0.76    1\n",
      "1.22    1\n",
      "0.69    1\n",
      "Name: Hue, Length: 78, dtype: int64\n"
     ]
    },
    {
     "data": {
      "text/plain": [
       "<AxesSubplot:ylabel='Frequency'>"
      ]
     },
     "execution_count": 15,
     "metadata": {},
     "output_type": "execute_result"
    },
    {
     "data": {
      "image/png": "[encoded data removed]",
      "text/plain": [
       "<Figure size 432x288 with 1 Axes>"
      ]
     },
     "metadata": {
      "needs_background": "light"
     },
     "output_type": "display_data"
    }
   ],
   "source": [
    "print(train_df['Hue'].value_counts())\n",
    "train_df['Hue'].plot(kind='hist')"
   ]
  },
  {
   "cell_type": "markdown",
   "metadata": {},
   "source": [
    "Da mesma forma que o histograma de Flavanoids, percebemos neste a falta de amostras de 1.46 e 1.59 aproximadamente."
   ]
  },
  {
   "cell_type": "code",
   "execution_count": 16,
   "metadata": {},
   "outputs": [
    {
     "name": "stdout",
     "output_type": "stream",
     "text": [
      "2.87    5\n",
      "3.00    4\n",
      "1.82    4\n",
      "2.78    4\n",
      "2.77    3\n",
      "       ..\n",
      "3.31    1\n",
      "3.69    1\n",
      "2.01    1\n",
      "1.96    1\n",
      "2.73    1\n",
      "Name: OD280/OD315_of_diluted_wines, Length: 122, dtype: int64\n"
     ]
    },
    {
     "data": {
      "text/plain": [
       "<AxesSubplot:ylabel='Frequency'>"
      ]
     },
     "execution_count": 16,
     "metadata": {},
     "output_type": "execute_result"
    },
    {
     "data": {
      "image/png": "[encoded data removed]",
      "text/plain": [
       "<Figure size 432x288 with 1 Axes>"
      ]
     },
     "metadata": {
      "needs_background": "light"
     },
     "output_type": "display_data"
    }
   ],
   "source": [
    "print(train_df['OD280/OD315_of_diluted_wines'].value_counts())\n",
    "train_df['OD280/OD315_of_diluted_wines'].plot(kind='hist')"
   ]
  },
  {
   "cell_type": "markdown",
   "metadata": {},
   "source": [
    "Percebe-se neste que possue mais amostras de 1.55 à 1.80 aproximadamente, assim como de 2.60 à 3.40 aproximadamente."
   ]
  },
  {
   "cell_type": "code",
   "execution_count": 17,
   "metadata": {},
   "outputs": [
    {
     "name": "stdout",
     "output_type": "stream",
     "text": [
      "680     5\n",
      "520     5\n",
      "630     4\n",
      "625     4\n",
      "750     4\n",
      "       ..\n",
      "385     1\n",
      "1020    1\n",
      "392     1\n",
      "720     1\n",
      "502     1\n",
      "Name: Proline, Length: 121, dtype: int64\n"
     ]
    },
    {
     "data": {
      "text/plain": [
       "<AxesSubplot:ylabel='Frequency'>"
      ]
     },
     "execution_count": 17,
     "metadata": {},
     "output_type": "execute_result"
    },
    {
     "data": {
      "image/png": "[encoded data removed]",
      "text/plain": [
       "<Figure size 432x288 with 1 Axes>"
      ]
     },
     "metadata": {
      "needs_background": "light"
     },
     "output_type": "display_data"
    }
   ],
   "source": [
    "print(train_df['Proline'].value_counts())\n",
    "train_df['Proline'].plot(kind='hist')"
   ]
  },
  {
   "cell_type": "markdown",
   "metadata": {},
   "source": [
    "Nota-se que a maior parte das amostras de Proline estão entre 420 e 640 aproximadamente."
   ]
  },
  {
   "cell_type": "markdown",
   "metadata": {},
   "source": [
    "# Verificando presença de Outliers\n",
    "Foi possivel constatar a presença de poucos outliers nas classes, estes não chegaram a comprometer nenhuma delas."
   ]
  },
  {
   "cell_type": "code",
   "execution_count": 18,
   "metadata": {},
   "outputs": [
    {
     "data": {
      "text/plain": [
       "<AxesSubplot:title={'center':'Alcohol'}>"
      ]
     },
     "execution_count": 18,
     "metadata": {},
     "output_type": "execute_result"
    },
    {
     "data": {
      "image/png": "[encoded data removed]",
      "text/plain": [
       "<Figure size 432x288 with 1 Axes>"
      ]
     },
     "metadata": {
      "needs_background": "light"
     },
     "output_type": "display_data"
    }
   ],
   "source": [
    "train_df['Alcohol'].plot(kind='box', title='Alcohol')"
   ]
  },
  {
   "cell_type": "code",
   "execution_count": 19,
   "metadata": {},
   "outputs": [
    {
     "data": {
      "text/plain": [
       "<AxesSubplot:title={'center':'Malic_acid'}>"
      ]
     },
     "execution_count": 19,
     "metadata": {},
     "output_type": "execute_result"
    },
    {
     "data": {
      "image/png": "[encoded data removed]",
      "text/plain": [
       "<Figure size 432x288 with 1 Axes>"
      ]
     },
     "metadata": {
      "needs_background": "light"
     },
     "output_type": "display_data"
    }
   ],
   "source": [
    "train_df['Malic_acid'].plot(kind='box', title='Malic_acid')"
   ]
  },
  {
   "cell_type": "code",
   "execution_count": 20,
   "metadata": {},
   "outputs": [
    {
     "data": {
      "text/plain": [
       "<AxesSubplot:title={'center':'Ash'}>"
      ]
     },
     "execution_count": 20,
     "metadata": {},
     "output_type": "execute_result"
    },
    {
     "data": {
      "image/png": "[encoded data removed]",
      "text/plain": [
       "<Figure size 432x288 with 1 Axes>"
      ]
     },
     "metadata": {
      "needs_background": "light"
     },
     "output_type": "display_data"
    }
   ],
   "source": [
    "train_df['Ash'].plot(kind='box', title='Ash')"
   ]
  },
  {
   "cell_type": "code",
   "execution_count": 21,
   "metadata": {},
   "outputs": [
    {
     "data": {
      "text/plain": [
       "<AxesSubplot:title={'center':'Alcalinity_of_ash'}>"
      ]
     },
     "execution_count": 21,
     "metadata": {},
     "output_type": "execute_result"
    },
    {
     "data": {
      "image/png": "[encoded data removed]",
      "text/plain": [
       "<Figure size 432x288 with 1 Axes>"
      ]
     },
     "metadata": {
      "needs_background": "light"
     },
     "output_type": "display_data"
    }
   ],
   "source": [
    "train_df['Alcalinity_of_ash'].plot(kind='box', title='Alcalinity_of_ash')"
   ]
  },
  {
   "cell_type": "code",
   "execution_count": 22,
   "metadata": {},
   "outputs": [
    {
     "data": {
      "text/plain": [
       "<AxesSubplot:title={'center':'Magnesium'}>"
      ]
     },
     "execution_count": 22,
     "metadata": {},
     "output_type": "execute_result"
    },
    {
     "data": {
      "image/png": "[encoded data removed]",
      "text/plain": [
       "<Figure size 432x288 with 1 Axes>"
      ]
     },
     "metadata": {
      "needs_background": "light"
     },
     "output_type": "display_data"
    }
   ],
   "source": [
    " train_df['Magnesium'].plot(kind='box', title='Magnesium')"
   ]
  },
  {
   "cell_type": "code",
   "execution_count": 23,
   "metadata": {},
   "outputs": [
    {
     "data": {
      "text/plain": [
       "<AxesSubplot:title={'center':'Total_phenols'}>"
      ]
     },
     "execution_count": 23,
     "metadata": {},
     "output_type": "execute_result"
    },
    {
     "data": {
      "image/png": "[encoded data removed]",
      "text/plain": [
       "<Figure size 432x288 with 1 Axes>"
      ]
     },
     "metadata": {
      "needs_background": "light"
     },
     "output_type": "display_data"
    }
   ],
   "source": [
    "train_df['Total_phenols'].plot(kind='box', title='Total_phenols')"
   ]
  },
  {
   "cell_type": "code",
   "execution_count": 24,
   "metadata": {},
   "outputs": [
    {
     "data": {
      "text/plain": [
       "<AxesSubplot:title={'center':'Flavanoids'}>"
      ]
     },
     "execution_count": 24,
     "metadata": {},
     "output_type": "execute_result"
    },
    {
     "data": {
      "image/png": "[encoded data removed]",
      "text/plain": [
       "<Figure size 432x288 with 1 Axes>"
      ]
     },
     "metadata": {
      "needs_background": "light"
     },
     "output_type": "display_data"
    }
   ],
   "source": [
    "train_df['Flavanoids'].plot(kind='box', title='Flavanoids')"
   ]
  },
  {
   "cell_type": "code",
   "execution_count": 25,
   "metadata": {},
   "outputs": [
    {
     "data": {
      "text/plain": [
       "<AxesSubplot:title={'center':'Nonflavanoid_phenols'}>"
      ]
     },
     "execution_count": 25,
     "metadata": {},
     "output_type": "execute_result"
    },
    {
     "data": {
      "image/png": "[encoded data removed]",
      "text/plain": [
       "<Figure size 432x288 with 1 Axes>"
      ]
     },
     "metadata": {
      "needs_background": "light"
     },
     "output_type": "display_data"
    }
   ],
   "source": [
    "train_df['Nonflavanoid_phenols'].plot(kind='box', title='Nonflavanoid_phenols')"
   ]
  },
  {
   "cell_type": "code",
   "execution_count": 26,
   "metadata": {},
   "outputs": [
    {
     "data": {
      "text/plain": [
       "<AxesSubplot:title={'center':'Proanthocyanins'}>"
      ]
     },
     "execution_count": 26,
     "metadata": {},
     "output_type": "execute_result"
    },
    {
     "data": {
      "image/png": "[encoded data removed]",
      "text/plain": [
       "<Figure size 432x288 with 1 Axes>"
      ]
     },
     "metadata": {
      "needs_background": "light"
     },
     "output_type": "display_data"
    }
   ],
   "source": [
    "train_df['Proanthocyanins'].plot(kind='box', title='Proanthocyanins')"
   ]
  },
  {
   "cell_type": "code",
   "execution_count": 27,
   "metadata": {},
   "outputs": [
    {
     "data": {
      "text/plain": [
       "<AxesSubplot:title={'center':'Color_intensity'}>"
      ]
     },
     "execution_count": 27,
     "metadata": {},
     "output_type": "execute_result"
    },
    {
     "data": {
      "image/png": "[encoded data removed]",
      "text/plain": [
       "<Figure size 432x288 with 1 Axes>"
      ]
     },
     "metadata": {
      "needs_background": "light"
     },
     "output_type": "display_data"
    }
   ],
   "source": [
    "train_df['Color_intensity'].plot(kind='box', title='Color_intensity')"
   ]
  },
  {
   "cell_type": "code",
   "execution_count": 28,
   "metadata": {},
   "outputs": [
    {
     "data": {
      "text/plain": [
       "<AxesSubplot:title={'center':'Hue'}>"
      ]
     },
     "execution_count": 28,
     "metadata": {},
     "output_type": "execute_result"
    },
    {
     "data": {
      "image/png": "[encoded data removed]",
      "text/plain": [
       "<Figure size 432x288 with 1 Axes>"
      ]
     },
     "metadata": {
      "needs_background": "light"
     },
     "output_type": "display_data"
    }
   ],
   "source": [
    "train_df['Hue'].plot(kind='box', title='Hue')"
   ]
  },
  {
   "cell_type": "code",
   "execution_count": 29,
   "metadata": {},
   "outputs": [
    {
     "data": {
      "text/plain": [
       "<AxesSubplot:title={'center':'OD280/OD315_of_diluted_wines'}>"
      ]
     },
     "execution_count": 29,
     "metadata": {},
     "output_type": "execute_result"
    },
    {
     "data": {
      "image/png": "[encoded data removed]",
      "text/plain": [
       "<Figure size 432x288 with 1 Axes>"
      ]
     },
     "metadata": {
      "needs_background": "light"
     },
     "output_type": "display_data"
    }
   ],
   "source": [
    "train_df['OD280/OD315_of_diluted_wines'].plot(kind='box', title='OD280/OD315_of_diluted_wines')"
   ]
  },
  {
   "cell_type": "code",
   "execution_count": 30,
   "metadata": {},
   "outputs": [
    {
     "data": {
      "text/plain": [
       "<AxesSubplot:title={'center':'Proline'}>"
      ]
     },
     "execution_count": 30,
     "metadata": {},
     "output_type": "execute_result"
    },
    {
     "data": {
      "image/png": "[encoded data removed]",
      "text/plain": [
       "<Figure size 432x288 with 1 Axes>"
      ]
     },
     "metadata": {
      "needs_background": "light"
     },
     "output_type": "display_data"
    }
   ],
   "source": [
    "train_df['Proline'].plot(kind='box', title='Proline')"
   ]
  },
  {
   "cell_type": "markdown",
   "metadata": {},
   "source": [
    "# Matriz de Correlação\n",
    "Através da matriz de correlação foi possivel constatar uma correlação forte entre as colunas 'Total_phenols' e 'Flavanoids', 'Flavanoids' e 'OD280/OD315_of_diluted_wines', assim como  'Magnesium' e 'OD280/OD315_of_diluted_wines'. As demais colunas possuiram correlações moderadas ou fracas."
   ]
  },
  {
   "cell_type": "code",
   "execution_count": 31,
   "metadata": {},
   "outputs": [
    {
     "data": {
      "text/html": [
       "<style  type=\"text/css\" >\n",
       "#T_db670edf_3c9f_11eb_8cbb_641c67a5d88erow0_col0,#T_db670edf_3c9f_11eb_8cbb_641c67a5d88erow1_col1,#T_db670edf_3c9f_11eb_8cbb_641c67a5d88erow2_col2,#T_db670edf_3c9f_11eb_8cbb_641c67a5d88erow3_col3,#T_db670edf_3c9f_11eb_8cbb_641c67a5d88erow4_col4,#T_db670edf_3c9f_11eb_8cbb_641c67a5d88erow5_col5,#T_db670edf_3c9f_11eb_8cbb_641c67a5d88erow6_col6,#T_db670edf_3c9f_11eb_8cbb_641c67a5d88erow7_col7,#T_db670edf_3c9f_11eb_8cbb_641c67a5d88erow8_col8,#T_db670edf_3c9f_11eb_8cbb_641c67a5d88erow9_col9,#T_db670edf_3c9f_11eb_8cbb_641c67a5d88erow10_col10,#T_db670edf_3c9f_11eb_8cbb_641c67a5d88erow11_col11,#T_db670edf_3c9f_11eb_8cbb_641c67a5d88erow12_col12{\n",
       "            background-color:  #b40426;\n",
       "            color:  #f1f1f1;\n",
       "        }#T_db670edf_3c9f_11eb_8cbb_641c67a5d88erow0_col1,#T_db670edf_3c9f_11eb_8cbb_641c67a5d88erow0_col4{\n",
       "            background-color:  #c6d6f1;\n",
       "            color:  #000000;\n",
       "        }#T_db670edf_3c9f_11eb_8cbb_641c67a5d88erow0_col2{\n",
       "            background-color:  #93b5fe;\n",
       "            color:  #000000;\n",
       "        }#T_db670edf_3c9f_11eb_8cbb_641c67a5d88erow0_col3{\n",
       "            background-color:  #5673e0;\n",
       "            color:  #000000;\n",
       "        }#T_db670edf_3c9f_11eb_8cbb_641c67a5d88erow0_col5,#T_db670edf_3c9f_11eb_8cbb_641c67a5d88erow12_col8,#T_db670edf_3c9f_11eb_8cbb_641c67a5d88erow12_col10{\n",
       "            background-color:  #dfdbd9;\n",
       "            color:  #000000;\n",
       "        }#T_db670edf_3c9f_11eb_8cbb_641c67a5d88erow0_col6{\n",
       "            background-color:  #dddcdc;\n",
       "            color:  #000000;\n",
       "        }#T_db670edf_3c9f_11eb_8cbb_641c67a5d88erow0_col7,#T_db670edf_3c9f_11eb_8cbb_641c67a5d88erow4_col3,#T_db670edf_3c9f_11eb_8cbb_641c67a5d88erow9_col8,#T_db670edf_3c9f_11eb_8cbb_641c67a5d88erow10_col4{\n",
       "            background-color:  #8caffe;\n",
       "            color:  #000000;\n",
       "        }#T_db670edf_3c9f_11eb_8cbb_641c67a5d88erow0_col8{\n",
       "            background-color:  #b6cefa;\n",
       "            color:  #000000;\n",
       "        }#T_db670edf_3c9f_11eb_8cbb_641c67a5d88erow0_col9{\n",
       "            background-color:  #f7ac8e;\n",
       "            color:  #000000;\n",
       "        }#T_db670edf_3c9f_11eb_8cbb_641c67a5d88erow0_col10{\n",
       "            background-color:  #a3c2fe;\n",
       "            color:  #000000;\n",
       "        }#T_db670edf_3c9f_11eb_8cbb_641c67a5d88erow0_col11{\n",
       "            background-color:  #bbd1f8;\n",
       "            color:  #000000;\n",
       "        }#T_db670edf_3c9f_11eb_8cbb_641c67a5d88erow0_col12{\n",
       "            background-color:  #f4987a;\n",
       "            color:  #000000;\n",
       "        }#T_db670edf_3c9f_11eb_8cbb_641c67a5d88erow1_col0,#T_db670edf_3c9f_11eb_8cbb_641c67a5d88erow2_col10,#T_db670edf_3c9f_11eb_8cbb_641c67a5d88erow9_col2{\n",
       "            background-color:  #a2c1ff;\n",
       "            color:  #000000;\n",
       "        }#T_db670edf_3c9f_11eb_8cbb_641c67a5d88erow1_col2{\n",
       "            background-color:  #82a6fb;\n",
       "            color:  #000000;\n",
       "        }#T_db670edf_3c9f_11eb_8cbb_641c67a5d88erow1_col3,#T_db670edf_3c9f_11eb_8cbb_641c67a5d88erow1_col9{\n",
       "            background-color:  #dedcdb;\n",
       "            color:  #000000;\n",
       "        }#T_db670edf_3c9f_11eb_8cbb_641c67a5d88erow1_col4{\n",
       "            background-color:  #6e90f2;\n",
       "            color:  #000000;\n",
       "        }#T_db670edf_3c9f_11eb_8cbb_641c67a5d88erow1_col5,#T_db670edf_3c9f_11eb_8cbb_641c67a5d88erow8_col2{\n",
       "            background-color:  #536edd;\n",
       "            color:  #000000;\n",
       "        }#T_db670edf_3c9f_11eb_8cbb_641c67a5d88erow1_col6,#T_db670edf_3c9f_11eb_8cbb_641c67a5d88erow5_col3{\n",
       "            background-color:  #5470de;\n",
       "            color:  #000000;\n",
       "        }#T_db670edf_3c9f_11eb_8cbb_641c67a5d88erow1_col7,#T_db670edf_3c9f_11eb_8cbb_641c67a5d88erow12_col11{\n",
       "            background-color:  #e7d7ce;\n",
       "            color:  #000000;\n",
       "        }#T_db670edf_3c9f_11eb_8cbb_641c67a5d88erow1_col8{\n",
       "            background-color:  #5b7ae5;\n",
       "            color:  #000000;\n",
       "        }#T_db670edf_3c9f_11eb_8cbb_641c67a5d88erow1_col10,#T_db670edf_3c9f_11eb_8cbb_641c67a5d88erow3_col0,#T_db670edf_3c9f_11eb_8cbb_641c67a5d88erow3_col12,#T_db670edf_3c9f_11eb_8cbb_641c67a5d88erow6_col7,#T_db670edf_3c9f_11eb_8cbb_641c67a5d88erow7_col4,#T_db670edf_3c9f_11eb_8cbb_641c67a5d88erow7_col5,#T_db670edf_3c9f_11eb_8cbb_641c67a5d88erow7_col6,#T_db670edf_3c9f_11eb_8cbb_641c67a5d88erow7_col8,#T_db670edf_3c9f_11eb_8cbb_641c67a5d88erow7_col11,#T_db670edf_3c9f_11eb_8cbb_641c67a5d88erow10_col1,#T_db670edf_3c9f_11eb_8cbb_641c67a5d88erow10_col2,#T_db670edf_3c9f_11eb_8cbb_641c67a5d88erow10_col9,#T_db670edf_3c9f_11eb_8cbb_641c67a5d88erow12_col3{\n",
       "            background-color:  #3b4cc0;\n",
       "            color:  #f1f1f1;\n",
       "        }#T_db670edf_3c9f_11eb_8cbb_641c67a5d88erow1_col11,#T_db670edf_3c9f_11eb_8cbb_641c67a5d88erow3_col5,#T_db670edf_3c9f_11eb_8cbb_641c67a5d88erow7_col12{\n",
       "            background-color:  #5572df;\n",
       "            color:  #000000;\n",
       "        }#T_db670edf_3c9f_11eb_8cbb_641c67a5d88erow1_col12{\n",
       "            background-color:  #7295f4;\n",
       "            color:  #000000;\n",
       "        }#T_db670edf_3c9f_11eb_8cbb_641c67a5d88erow2_col0,#T_db670edf_3c9f_11eb_8cbb_641c67a5d88erow4_col10{\n",
       "            background-color:  #bfd3f6;\n",
       "            color:  #000000;\n",
       "        }#T_db670edf_3c9f_11eb_8cbb_641c67a5d88erow2_col1,#T_db670edf_3c9f_11eb_8cbb_641c67a5d88erow2_col12{\n",
       "            background-color:  #d3dbe7;\n",
       "            color:  #000000;\n",
       "        }#T_db670edf_3c9f_11eb_8cbb_641c67a5d88erow2_col3{\n",
       "            background-color:  #f3c7b1;\n",
       "            color:  #000000;\n",
       "        }#T_db670edf_3c9f_11eb_8cbb_641c67a5d88erow2_col4{\n",
       "            background-color:  #cad8ef;\n",
       "            color:  #000000;\n",
       "        }#T_db670edf_3c9f_11eb_8cbb_641c67a5d88erow2_col5{\n",
       "            background-color:  #c0d4f5;\n",
       "            color:  #000000;\n",
       "        }#T_db670edf_3c9f_11eb_8cbb_641c67a5d88erow2_col6{\n",
       "            background-color:  #c7d7f0;\n",
       "            color:  #000000;\n",
       "        }#T_db670edf_3c9f_11eb_8cbb_641c67a5d88erow2_col7,#T_db670edf_3c9f_11eb_8cbb_641c67a5d88erow10_col12{\n",
       "            background-color:  #d5dbe5;\n",
       "            color:  #000000;\n",
       "        }#T_db670edf_3c9f_11eb_8cbb_641c67a5d88erow2_col8{\n",
       "            background-color:  #96b7ff;\n",
       "            color:  #000000;\n",
       "        }#T_db670edf_3c9f_11eb_8cbb_641c67a5d88erow2_col9{\n",
       "            background-color:  #e0dbd8;\n",
       "            color:  #000000;\n",
       "        }#T_db670edf_3c9f_11eb_8cbb_641c67a5d88erow2_col11,#T_db670edf_3c9f_11eb_8cbb_641c67a5d88erow4_col2{\n",
       "            background-color:  #abc8fd;\n",
       "            color:  #000000;\n",
       "        }#T_db670edf_3c9f_11eb_8cbb_641c67a5d88erow3_col1{\n",
       "            background-color:  #e8d6cc;\n",
       "            color:  #000000;\n",
       "        }#T_db670edf_3c9f_11eb_8cbb_641c67a5d88erow3_col2,#T_db670edf_3c9f_11eb_8cbb_641c67a5d88erow10_col8{\n",
       "            background-color:  #d8dce2;\n",
       "            color:  #000000;\n",
       "        }#T_db670edf_3c9f_11eb_8cbb_641c67a5d88erow3_col4{\n",
       "            background-color:  #6687ed;\n",
       "            color:  #000000;\n",
       "        }#T_db670edf_3c9f_11eb_8cbb_641c67a5d88erow3_col6,#T_db670edf_3c9f_11eb_8cbb_641c67a5d88erow3_col8,#T_db670edf_3c9f_11eb_8cbb_641c67a5d88erow11_col1{\n",
       "            background-color:  #6180e9;\n",
       "            color:  #000000;\n",
       "        }#T_db670edf_3c9f_11eb_8cbb_641c67a5d88erow3_col7{\n",
       "            background-color:  #efcebd;\n",
       "            color:  #000000;\n",
       "        }#T_db670edf_3c9f_11eb_8cbb_641c67a5d88erow3_col9{\n",
       "            background-color:  #b1cbfc;\n",
       "            color:  #000000;\n",
       "        }#T_db670edf_3c9f_11eb_8cbb_641c67a5d88erow3_col10{\n",
       "            background-color:  #7699f6;\n",
       "            color:  #000000;\n",
       "        }#T_db670edf_3c9f_11eb_8cbb_641c67a5d88erow3_col11{\n",
       "            background-color:  #6a8bef;\n",
       "            color:  #000000;\n",
       "        }#T_db670edf_3c9f_11eb_8cbb_641c67a5d88erow4_col0{\n",
       "            background-color:  #cdd9ec;\n",
       "            color:  #000000;\n",
       "        }#T_db670edf_3c9f_11eb_8cbb_641c67a5d88erow4_col1,#T_db670edf_3c9f_11eb_8cbb_641c67a5d88erow8_col9{\n",
       "            background-color:  #a7c5fe;\n",
       "            color:  #000000;\n",
       "        }#T_db670edf_3c9f_11eb_8cbb_641c67a5d88erow4_col5,#T_db670edf_3c9f_11eb_8cbb_641c67a5d88erow5_col0{\n",
       "            background-color:  #d2dbe8;\n",
       "            color:  #000000;\n",
       "        }#T_db670edf_3c9f_11eb_8cbb_641c67a5d88erow4_col6{\n",
       "            background-color:  #d7dce3;\n",
       "            color:  #000000;\n",
       "        }#T_db670edf_3c9f_11eb_8cbb_641c67a5d88erow4_col7,#T_db670edf_3c9f_11eb_8cbb_641c67a5d88erow10_col0{\n",
       "            background-color:  #7597f6;\n",
       "            color:  #000000;\n",
       "        }#T_db670edf_3c9f_11eb_8cbb_641c67a5d88erow4_col8,#T_db670edf_3c9f_11eb_8cbb_641c67a5d88erow9_col7{\n",
       "            background-color:  #ccd9ed;\n",
       "            color:  #000000;\n",
       "        }#T_db670edf_3c9f_11eb_8cbb_641c67a5d88erow4_col9{\n",
       "            background-color:  #d6dce4;\n",
       "            color:  #000000;\n",
       "        }#T_db670edf_3c9f_11eb_8cbb_641c67a5d88erow4_col11{\n",
       "            background-color:  #b9d0f9;\n",
       "            color:  #000000;\n",
       "        }#T_db670edf_3c9f_11eb_8cbb_641c67a5d88erow4_col12{\n",
       "            background-color:  #efcfbf;\n",
       "            color:  #000000;\n",
       "        }#T_db670edf_3c9f_11eb_8cbb_641c67a5d88erow5_col1,#T_db670edf_3c9f_11eb_8cbb_641c67a5d88erow12_col7{\n",
       "            background-color:  #688aef;\n",
       "            color:  #000000;\n",
       "        }#T_db670edf_3c9f_11eb_8cbb_641c67a5d88erow5_col2,#T_db670edf_3c9f_11eb_8cbb_641c67a5d88erow7_col10{\n",
       "            background-color:  #779af7;\n",
       "            color:  #000000;\n",
       "        }#T_db670edf_3c9f_11eb_8cbb_641c67a5d88erow5_col4{\n",
       "            background-color:  #b7cff9;\n",
       "            color:  #000000;\n",
       "        }#T_db670edf_3c9f_11eb_8cbb_641c67a5d88erow5_col6{\n",
       "            background-color:  #d24b40;\n",
       "            color:  #f1f1f1;\n",
       "        }#T_db670edf_3c9f_11eb_8cbb_641c67a5d88erow5_col7{\n",
       "            background-color:  #4b64d5;\n",
       "            color:  #f1f1f1;\n",
       "        }#T_db670edf_3c9f_11eb_8cbb_641c67a5d88erow5_col8{\n",
       "            background-color:  #f7a688;\n",
       "            color:  #000000;\n",
       "        }#T_db670edf_3c9f_11eb_8cbb_641c67a5d88erow5_col9{\n",
       "            background-color:  #a1c0ff;\n",
       "            color:  #000000;\n",
       "        }#T_db670edf_3c9f_11eb_8cbb_641c67a5d88erow5_col10{\n",
       "            background-color:  #f5c0a7;\n",
       "            color:  #000000;\n",
       "        }#T_db670edf_3c9f_11eb_8cbb_641c67a5d88erow5_col11{\n",
       "            background-color:  #ee8468;\n",
       "            color:  #000000;\n",
       "        }#T_db670edf_3c9f_11eb_8cbb_641c67a5d88erow5_col12,#T_db670edf_3c9f_11eb_8cbb_641c67a5d88erow6_col12{\n",
       "            background-color:  #f6bda2;\n",
       "            color:  #000000;\n",
       "        }#T_db670edf_3c9f_11eb_8cbb_641c67a5d88erow6_col0{\n",
       "            background-color:  #c5d6f2;\n",
       "            color:  #000000;\n",
       "        }#T_db670edf_3c9f_11eb_8cbb_641c67a5d88erow6_col1{\n",
       "            background-color:  #5875e1;\n",
       "            color:  #000000;\n",
       "        }#T_db670edf_3c9f_11eb_8cbb_641c67a5d88erow6_col2,#T_db670edf_3c9f_11eb_8cbb_641c67a5d88erow10_col7{\n",
       "            background-color:  #7396f5;\n",
       "            color:  #000000;\n",
       "        }#T_db670edf_3c9f_11eb_8cbb_641c67a5d88erow6_col3,#T_db670edf_3c9f_11eb_8cbb_641c67a5d88erow11_col9{\n",
       "            background-color:  #4c66d6;\n",
       "            color:  #000000;\n",
       "        }#T_db670edf_3c9f_11eb_8cbb_641c67a5d88erow6_col4,#T_db670edf_3c9f_11eb_8cbb_641c67a5d88erow9_col4{\n",
       "            background-color:  #b3cdfb;\n",
       "            color:  #000000;\n",
       "        }#T_db670edf_3c9f_11eb_8cbb_641c67a5d88erow6_col5{\n",
       "            background-color:  #d44e41;\n",
       "            color:  #000000;\n",
       "        }#T_db670edf_3c9f_11eb_8cbb_641c67a5d88erow6_col8{\n",
       "            background-color:  #f59c7d;\n",
       "            color:  #000000;\n",
       "        }#T_db670edf_3c9f_11eb_8cbb_641c67a5d88erow6_col9{\n",
       "            background-color:  #85a8fc;\n",
       "            color:  #000000;\n",
       "        }#T_db670edf_3c9f_11eb_8cbb_641c67a5d88erow6_col10{\n",
       "            background-color:  #f7a98b;\n",
       "            color:  #000000;\n",
       "        }#T_db670edf_3c9f_11eb_8cbb_641c67a5d88erow6_col11{\n",
       "            background-color:  #e26952;\n",
       "            color:  #000000;\n",
       "        }#T_db670edf_3c9f_11eb_8cbb_641c67a5d88erow7_col0{\n",
       "            background-color:  #5f7fe8;\n",
       "            color:  #000000;\n",
       "        }#T_db670edf_3c9f_11eb_8cbb_641c67a5d88erow7_col1,#T_db670edf_3c9f_11eb_8cbb_641c67a5d88erow8_col10,#T_db670edf_3c9f_11eb_8cbb_641c67a5d88erow12_col9{\n",
       "            background-color:  #e9d5cb;\n",
       "            color:  #000000;\n",
       "        }#T_db670edf_3c9f_11eb_8cbb_641c67a5d88erow7_col2{\n",
       "            background-color:  #8badfd;\n",
       "            color:  #000000;\n",
       "        }#T_db670edf_3c9f_11eb_8cbb_641c67a5d88erow7_col3{\n",
       "            background-color:  #ead4c8;\n",
       "            color:  #000000;\n",
       "        }#T_db670edf_3c9f_11eb_8cbb_641c67a5d88erow7_col9{\n",
       "            background-color:  #cbd8ee;\n",
       "            color:  #000000;\n",
       "        }#T_db670edf_3c9f_11eb_8cbb_641c67a5d88erow8_col0{\n",
       "            background-color:  #adc9fd;\n",
       "            color:  #000000;\n",
       "        }#T_db670edf_3c9f_11eb_8cbb_641c67a5d88erow8_col1{\n",
       "            background-color:  #81a4fb;\n",
       "            color:  #000000;\n",
       "        }#T_db670edf_3c9f_11eb_8cbb_641c67a5d88erow8_col3{\n",
       "            background-color:  #7093f3;\n",
       "            color:  #000000;\n",
       "        }#T_db670edf_3c9f_11eb_8cbb_641c67a5d88erow8_col4{\n",
       "            background-color:  #bed2f6;\n",
       "            color:  #000000;\n",
       "        }#T_db670edf_3c9f_11eb_8cbb_641c67a5d88erow8_col5{\n",
       "            background-color:  #f5a081;\n",
       "            color:  #000000;\n",
       "        }#T_db670edf_3c9f_11eb_8cbb_641c67a5d88erow8_col6{\n",
       "            background-color:  #f18f71;\n",
       "            color:  #000000;\n",
       "        }#T_db670edf_3c9f_11eb_8cbb_641c67a5d88erow8_col7{\n",
       "            background-color:  #5d7ce6;\n",
       "            color:  #000000;\n",
       "        }#T_db670edf_3c9f_11eb_8cbb_641c67a5d88erow8_col11{\n",
       "            background-color:  #f7b396;\n",
       "            color:  #000000;\n",
       "        }#T_db670edf_3c9f_11eb_8cbb_641c67a5d88erow8_col12{\n",
       "            background-color:  #e6d7cf;\n",
       "            color:  #000000;\n",
       "        }#T_db670edf_3c9f_11eb_8cbb_641c67a5d88erow9_col0,#T_db670edf_3c9f_11eb_8cbb_641c67a5d88erow12_col5{\n",
       "            background-color:  #f7bca1;\n",
       "            color:  #000000;\n",
       "        }#T_db670edf_3c9f_11eb_8cbb_641c67a5d88erow9_col1,#T_db670edf_3c9f_11eb_8cbb_641c67a5d88erow12_col4{\n",
       "            background-color:  #e1dad6;\n",
       "            color:  #000000;\n",
       "        }#T_db670edf_3c9f_11eb_8cbb_641c67a5d88erow9_col3{\n",
       "            background-color:  #a5c3fe;\n",
       "            color:  #000000;\n",
       "        }#T_db670edf_3c9f_11eb_8cbb_641c67a5d88erow9_col5{\n",
       "            background-color:  #94b6ff;\n",
       "            color:  #000000;\n",
       "        }#T_db670edf_3c9f_11eb_8cbb_641c67a5d88erow9_col6,#T_db670edf_3c9f_11eb_8cbb_641c67a5d88erow12_col1{\n",
       "            background-color:  #88abfd;\n",
       "            color:  #000000;\n",
       "        }#T_db670edf_3c9f_11eb_8cbb_641c67a5d88erow9_col10{\n",
       "            background-color:  #4257c9;\n",
       "            color:  #f1f1f1;\n",
       "        }#T_db670edf_3c9f_11eb_8cbb_641c67a5d88erow9_col11{\n",
       "            background-color:  #4961d2;\n",
       "            color:  #f1f1f1;\n",
       "        }#T_db670edf_3c9f_11eb_8cbb_641c67a5d88erow9_col12{\n",
       "            background-color:  #e3d9d3;\n",
       "            color:  #000000;\n",
       "        }#T_db670edf_3c9f_11eb_8cbb_641c67a5d88erow10_col3,#T_db670edf_3c9f_11eb_8cbb_641c67a5d88erow11_col3{\n",
       "            background-color:  #5e7de7;\n",
       "            color:  #000000;\n",
       "        }#T_db670edf_3c9f_11eb_8cbb_641c67a5d88erow10_col5{\n",
       "            background-color:  #f3c8b2;\n",
       "            color:  #000000;\n",
       "        }#T_db670edf_3c9f_11eb_8cbb_641c67a5d88erow10_col6{\n",
       "            background-color:  #f7aa8c;\n",
       "            color:  #000000;\n",
       "        }#T_db670edf_3c9f_11eb_8cbb_641c67a5d88erow10_col11{\n",
       "            background-color:  #f7a889;\n",
       "            color:  #000000;\n",
       "        }#T_db670edf_3c9f_11eb_8cbb_641c67a5d88erow11_col0{\n",
       "            background-color:  #9bbcff;\n",
       "            color:  #000000;\n",
       "        }#T_db670edf_3c9f_11eb_8cbb_641c67a5d88erow11_col2{\n",
       "            background-color:  #506bda;\n",
       "            color:  #000000;\n",
       "        }#T_db670edf_3c9f_11eb_8cbb_641c67a5d88erow11_col4{\n",
       "            background-color:  #8fb1fe;\n",
       "            color:  #000000;\n",
       "        }#T_db670edf_3c9f_11eb_8cbb_641c67a5d88erow11_col5{\n",
       "            background-color:  #ee8669;\n",
       "            color:  #000000;\n",
       "        }#T_db670edf_3c9f_11eb_8cbb_641c67a5d88erow11_col6{\n",
       "            background-color:  #e16751;\n",
       "            color:  #000000;\n",
       "        }#T_db670edf_3c9f_11eb_8cbb_641c67a5d88erow11_col7{\n",
       "            background-color:  #4055c8;\n",
       "            color:  #f1f1f1;\n",
       "        }#T_db670edf_3c9f_11eb_8cbb_641c67a5d88erow11_col8{\n",
       "            background-color:  #f6bea4;\n",
       "            color:  #000000;\n",
       "        }#T_db670edf_3c9f_11eb_8cbb_641c67a5d88erow11_col10{\n",
       "            background-color:  #f6a586;\n",
       "            color:  #000000;\n",
       "        }#T_db670edf_3c9f_11eb_8cbb_641c67a5d88erow11_col12{\n",
       "            background-color:  #e2dad5;\n",
       "            color:  #000000;\n",
       "        }#T_db670edf_3c9f_11eb_8cbb_641c67a5d88erow12_col0{\n",
       "            background-color:  #f6a283;\n",
       "            color:  #000000;\n",
       "        }#T_db670edf_3c9f_11eb_8cbb_641c67a5d88erow12_col2{\n",
       "            background-color:  #97b8ff;\n",
       "            color:  #000000;\n",
       "        }#T_db670edf_3c9f_11eb_8cbb_641c67a5d88erow12_col6{\n",
       "            background-color:  #f7b79b;\n",
       "            color:  #000000;\n",
       "        }</style><table id=\"T_db670edf_3c9f_11eb_8cbb_641c67a5d88e\" ><thead>    <tr>        <th class=\"blank level0\" ></th>        <th class=\"col_heading level0 col0\" >Alcohol</th>        <th class=\"col_heading level0 col1\" >Malic_acid</th>        <th class=\"col_heading level0 col2\" >Ash</th>        <th class=\"col_heading level0 col3\" >Alcalinity_of_ash</th>        <th class=\"col_heading level0 col4\" >Magnesium</th>        <th class=\"col_heading level0 col5\" >Total_phenols</th>        <th class=\"col_heading level0 col6\" >Flavanoids</th>        <th class=\"col_heading level0 col7\" >Nonflavanoid_phenols</th>        <th class=\"col_heading level0 col8\" >Proanthocyanins</th>        <th class=\"col_heading level0 col9\" >Color_intensity</th>        <th class=\"col_heading level0 col10\" >Hue</th>        <th class=\"col_heading level0 col11\" >OD280/OD315_of_diluted_wines</th>        <th class=\"col_heading level0 col12\" >Proline</th>    </tr></thead><tbody>\n",
       "                <tr>\n",
       "                        <th id=\"T_db670edf_3c9f_11eb_8cbb_641c67a5d88elevel0_row0\" class=\"row_heading level0 row0\" >Alcohol</th>\n",
       "                        <td id=\"T_db670edf_3c9f_11eb_8cbb_641c67a5d88erow0_col0\" class=\"data row0 col0\" >1.000000</td>\n",
       "                        <td id=\"T_db670edf_3c9f_11eb_8cbb_641c67a5d88erow0_col1\" class=\"data row0 col1\" >0.094397</td>\n",
       "                        <td id=\"T_db670edf_3c9f_11eb_8cbb_641c67a5d88erow0_col2\" class=\"data row0 col2\" >0.211545</td>\n",
       "                        <td id=\"T_db670edf_3c9f_11eb_8cbb_641c67a5d88erow0_col3\" class=\"data row0 col3\" >-0.310235</td>\n",
       "                        <td id=\"T_db670edf_3c9f_11eb_8cbb_641c67a5d88erow0_col4\" class=\"data row0 col4\" >0.270798</td>\n",
       "                        <td id=\"T_db670edf_3c9f_11eb_8cbb_641c67a5d88erow0_col5\" class=\"data row0 col5\" >0.289101</td>\n",
       "                        <td id=\"T_db670edf_3c9f_11eb_8cbb_641c67a5d88erow0_col6\" class=\"data row0 col6\" >0.236815</td>\n",
       "                        <td id=\"T_db670edf_3c9f_11eb_8cbb_641c67a5d88erow0_col7\" class=\"data row0 col7\" >-0.155929</td>\n",
       "                        <td id=\"T_db670edf_3c9f_11eb_8cbb_641c67a5d88erow0_col8\" class=\"data row0 col8\" >0.136698</td>\n",
       "                        <td id=\"T_db670edf_3c9f_11eb_8cbb_641c67a5d88erow0_col9\" class=\"data row0 col9\" >0.546364</td>\n",
       "                        <td id=\"T_db670edf_3c9f_11eb_8cbb_641c67a5d88erow0_col10\" class=\"data row0 col10\" >-0.071747</td>\n",
       "                        <td id=\"T_db670edf_3c9f_11eb_8cbb_641c67a5d88erow0_col11\" class=\"data row0 col11\" >0.072343</td>\n",
       "                        <td id=\"T_db670edf_3c9f_11eb_8cbb_641c67a5d88erow0_col12\" class=\"data row0 col12\" >0.643720</td>\n",
       "            </tr>\n",
       "            <tr>\n",
       "                        <th id=\"T_db670edf_3c9f_11eb_8cbb_641c67a5d88elevel0_row1\" class=\"row_heading level0 row1\" >Malic_acid</th>\n",
       "                        <td id=\"T_db670edf_3c9f_11eb_8cbb_641c67a5d88erow1_col0\" class=\"data row1 col0\" >0.094397</td>\n",
       "                        <td id=\"T_db670edf_3c9f_11eb_8cbb_641c67a5d88erow1_col1\" class=\"data row1 col1\" >1.000000</td>\n",
       "                        <td id=\"T_db670edf_3c9f_11eb_8cbb_641c67a5d88erow1_col2\" class=\"data row1 col2\" >0.164045</td>\n",
       "                        <td id=\"T_db670edf_3c9f_11eb_8cbb_641c67a5d88erow1_col3\" class=\"data row1 col3\" >0.288500</td>\n",
       "                        <td id=\"T_db670edf_3c9f_11eb_8cbb_641c67a5d88erow1_col4\" class=\"data row1 col4\" >-0.054575</td>\n",
       "                        <td id=\"T_db670edf_3c9f_11eb_8cbb_641c67a5d88erow1_col5\" class=\"data row1 col5\" >-0.335167</td>\n",
       "                        <td id=\"T_db670edf_3c9f_11eb_8cbb_641c67a5d88erow1_col6\" class=\"data row1 col6\" >-0.411007</td>\n",
       "                        <td id=\"T_db670edf_3c9f_11eb_8cbb_641c67a5d88erow1_col7\" class=\"data row1 col7\" >0.292977</td>\n",
       "                        <td id=\"T_db670edf_3c9f_11eb_8cbb_641c67a5d88erow1_col8\" class=\"data row1 col8\" >-0.220746</td>\n",
       "                        <td id=\"T_db670edf_3c9f_11eb_8cbb_641c67a5d88erow1_col9\" class=\"data row1 col9\" >0.248985</td>\n",
       "                        <td id=\"T_db670edf_3c9f_11eb_8cbb_641c67a5d88erow1_col10\" class=\"data row1 col10\" >-0.561296</td>\n",
       "                        <td id=\"T_db670edf_3c9f_11eb_8cbb_641c67a5d88erow1_col11\" class=\"data row1 col11\" >-0.368710</td>\n",
       "                        <td id=\"T_db670edf_3c9f_11eb_8cbb_641c67a5d88erow1_col12\" class=\"data row1 col12\" >-0.192011</td>\n",
       "            </tr>\n",
       "            <tr>\n",
       "                        <th id=\"T_db670edf_3c9f_11eb_8cbb_641c67a5d88elevel0_row2\" class=\"row_heading level0 row2\" >Ash</th>\n",
       "                        <td id=\"T_db670edf_3c9f_11eb_8cbb_641c67a5d88erow2_col0\" class=\"data row2 col0\" >0.211545</td>\n",
       "                        <td id=\"T_db670edf_3c9f_11eb_8cbb_641c67a5d88erow2_col1\" class=\"data row2 col1\" >0.164045</td>\n",
       "                        <td id=\"T_db670edf_3c9f_11eb_8cbb_641c67a5d88erow2_col2\" class=\"data row2 col2\" >1.000000</td>\n",
       "                        <td id=\"T_db670edf_3c9f_11eb_8cbb_641c67a5d88erow2_col3\" class=\"data row2 col3\" >0.443367</td>\n",
       "                        <td id=\"T_db670edf_3c9f_11eb_8cbb_641c67a5d88erow2_col4\" class=\"data row2 col4\" >0.286587</td>\n",
       "                        <td id=\"T_db670edf_3c9f_11eb_8cbb_641c67a5d88erow2_col5\" class=\"data row2 col5\" >0.128980</td>\n",
       "                        <td id=\"T_db670edf_3c9f_11eb_8cbb_641c67a5d88erow2_col6\" class=\"data row2 col6\" >0.115077</td>\n",
       "                        <td id=\"T_db670edf_3c9f_11eb_8cbb_641c67a5d88erow2_col7\" class=\"data row2 col7\" >0.186230</td>\n",
       "                        <td id=\"T_db670edf_3c9f_11eb_8cbb_641c67a5d88erow2_col8\" class=\"data row2 col8\" >0.009652</td>\n",
       "                        <td id=\"T_db670edf_3c9f_11eb_8cbb_641c67a5d88erow2_col9\" class=\"data row2 col9\" >0.258887</td>\n",
       "                        <td id=\"T_db670edf_3c9f_11eb_8cbb_641c67a5d88erow2_col10\" class=\"data row2 col10\" >-0.074667</td>\n",
       "                        <td id=\"T_db670edf_3c9f_11eb_8cbb_641c67a5d88erow2_col11\" class=\"data row2 col11\" >0.003911</td>\n",
       "                        <td id=\"T_db670edf_3c9f_11eb_8cbb_641c67a5d88erow2_col12\" class=\"data row2 col12\" >0.223626</td>\n",
       "            </tr>\n",
       "            <tr>\n",
       "                        <th id=\"T_db670edf_3c9f_11eb_8cbb_641c67a5d88elevel0_row3\" class=\"row_heading level0 row3\" >Alcalinity_of_ash</th>\n",
       "                        <td id=\"T_db670edf_3c9f_11eb_8cbb_641c67a5d88erow3_col0\" class=\"data row3 col0\" >-0.310235</td>\n",
       "                        <td id=\"T_db670edf_3c9f_11eb_8cbb_641c67a5d88erow3_col1\" class=\"data row3 col1\" >0.288500</td>\n",
       "                        <td id=\"T_db670edf_3c9f_11eb_8cbb_641c67a5d88erow3_col2\" class=\"data row3 col2\" >0.443367</td>\n",
       "                        <td id=\"T_db670edf_3c9f_11eb_8cbb_641c67a5d88erow3_col3\" class=\"data row3 col3\" >1.000000</td>\n",
       "                        <td id=\"T_db670edf_3c9f_11eb_8cbb_641c67a5d88erow3_col4\" class=\"data row3 col4\" >-0.083333</td>\n",
       "                        <td id=\"T_db670edf_3c9f_11eb_8cbb_641c67a5d88erow3_col5\" class=\"data row3 col5\" >-0.321113</td>\n",
       "                        <td id=\"T_db670edf_3c9f_11eb_8cbb_641c67a5d88erow3_col6\" class=\"data row3 col6\" >-0.351370</td>\n",
       "                        <td id=\"T_db670edf_3c9f_11eb_8cbb_641c67a5d88erow3_col7\" class=\"data row3 col7\" >0.361922</td>\n",
       "                        <td id=\"T_db670edf_3c9f_11eb_8cbb_641c67a5d88erow3_col8\" class=\"data row3 col8\" >-0.197327</td>\n",
       "                        <td id=\"T_db670edf_3c9f_11eb_8cbb_641c67a5d88erow3_col9\" class=\"data row3 col9\" >0.018732</td>\n",
       "                        <td id=\"T_db670edf_3c9f_11eb_8cbb_641c67a5d88erow3_col10\" class=\"data row3 col10\" >-0.273955</td>\n",
       "                        <td id=\"T_db670edf_3c9f_11eb_8cbb_641c67a5d88erow3_col11\" class=\"data row3 col11\" >-0.276769</td>\n",
       "                        <td id=\"T_db670edf_3c9f_11eb_8cbb_641c67a5d88erow3_col12\" class=\"data row3 col12\" >-0.440597</td>\n",
       "            </tr>\n",
       "            <tr>\n",
       "                        <th id=\"T_db670edf_3c9f_11eb_8cbb_641c67a5d88elevel0_row4\" class=\"row_heading level0 row4\" >Magnesium</th>\n",
       "                        <td id=\"T_db670edf_3c9f_11eb_8cbb_641c67a5d88erow4_col0\" class=\"data row4 col0\" >0.270798</td>\n",
       "                        <td id=\"T_db670edf_3c9f_11eb_8cbb_641c67a5d88erow4_col1\" class=\"data row4 col1\" >-0.054575</td>\n",
       "                        <td id=\"T_db670edf_3c9f_11eb_8cbb_641c67a5d88erow4_col2\" class=\"data row4 col2\" >0.286587</td>\n",
       "                        <td id=\"T_db670edf_3c9f_11eb_8cbb_641c67a5d88erow4_col3\" class=\"data row4 col3\" >-0.083333</td>\n",
       "                        <td id=\"T_db670edf_3c9f_11eb_8cbb_641c67a5d88erow4_col4\" class=\"data row4 col4\" >1.000000</td>\n",
       "                        <td id=\"T_db670edf_3c9f_11eb_8cbb_641c67a5d88erow4_col5\" class=\"data row4 col5\" >0.214401</td>\n",
       "                        <td id=\"T_db670edf_3c9f_11eb_8cbb_641c67a5d88erow4_col6\" class=\"data row4 col6\" >0.195784</td>\n",
       "                        <td id=\"T_db670edf_3c9f_11eb_8cbb_641c67a5d88erow4_col7\" class=\"data row4 col7\" >-0.256294</td>\n",
       "                        <td id=\"T_db670edf_3c9f_11eb_8cbb_641c67a5d88erow4_col8\" class=\"data row4 col8\" >0.236441</td>\n",
       "                        <td id=\"T_db670edf_3c9f_11eb_8cbb_641c67a5d88erow4_col9\" class=\"data row4 col9\" >0.199950</td>\n",
       "                        <td id=\"T_db670edf_3c9f_11eb_8cbb_641c67a5d88erow4_col10\" class=\"data row4 col10\" >0.055398</td>\n",
       "                        <td id=\"T_db670edf_3c9f_11eb_8cbb_641c67a5d88erow4_col11\" class=\"data row4 col11\" >0.066004</td>\n",
       "                        <td id=\"T_db670edf_3c9f_11eb_8cbb_641c67a5d88erow4_col12\" class=\"data row4 col12\" >0.393351</td>\n",
       "            </tr>\n",
       "            <tr>\n",
       "                        <th id=\"T_db670edf_3c9f_11eb_8cbb_641c67a5d88elevel0_row5\" class=\"row_heading level0 row5\" >Total_phenols</th>\n",
       "                        <td id=\"T_db670edf_3c9f_11eb_8cbb_641c67a5d88erow5_col0\" class=\"data row5 col0\" >0.289101</td>\n",
       "                        <td id=\"T_db670edf_3c9f_11eb_8cbb_641c67a5d88erow5_col1\" class=\"data row5 col1\" >-0.335167</td>\n",
       "                        <td id=\"T_db670edf_3c9f_11eb_8cbb_641c67a5d88erow5_col2\" class=\"data row5 col2\" >0.128980</td>\n",
       "                        <td id=\"T_db670edf_3c9f_11eb_8cbb_641c67a5d88erow5_col3\" class=\"data row5 col3\" >-0.321113</td>\n",
       "                        <td id=\"T_db670edf_3c9f_11eb_8cbb_641c67a5d88erow5_col4\" class=\"data row5 col4\" >0.214401</td>\n",
       "                        <td id=\"T_db670edf_3c9f_11eb_8cbb_641c67a5d88erow5_col5\" class=\"data row5 col5\" >1.000000</td>\n",
       "                        <td id=\"T_db670edf_3c9f_11eb_8cbb_641c67a5d88erow5_col6\" class=\"data row5 col6\" >0.864564</td>\n",
       "                        <td id=\"T_db670edf_3c9f_11eb_8cbb_641c67a5d88erow5_col7\" class=\"data row5 col7\" >-0.449935</td>\n",
       "                        <td id=\"T_db670edf_3c9f_11eb_8cbb_641c67a5d88erow5_col8\" class=\"data row5 col8\" >0.612413</td>\n",
       "                        <td id=\"T_db670edf_3c9f_11eb_8cbb_641c67a5d88erow5_col9\" class=\"data row5 col9\" >-0.055136</td>\n",
       "                        <td id=\"T_db670edf_3c9f_11eb_8cbb_641c67a5d88erow5_col10\" class=\"data row5 col10\" >0.433681</td>\n",
       "                        <td id=\"T_db670edf_3c9f_11eb_8cbb_641c67a5d88erow5_col11\" class=\"data row5 col11\" >0.699949</td>\n",
       "                        <td id=\"T_db670edf_3c9f_11eb_8cbb_641c67a5d88erow5_col12\" class=\"data row5 col12\" >0.498115</td>\n",
       "            </tr>\n",
       "            <tr>\n",
       "                        <th id=\"T_db670edf_3c9f_11eb_8cbb_641c67a5d88elevel0_row6\" class=\"row_heading level0 row6\" >Flavanoids</th>\n",
       "                        <td id=\"T_db670edf_3c9f_11eb_8cbb_641c67a5d88erow6_col0\" class=\"data row6 col0\" >0.236815</td>\n",
       "                        <td id=\"T_db670edf_3c9f_11eb_8cbb_641c67a5d88erow6_col1\" class=\"data row6 col1\" >-0.411007</td>\n",
       "                        <td id=\"T_db670edf_3c9f_11eb_8cbb_641c67a5d88erow6_col2\" class=\"data row6 col2\" >0.115077</td>\n",
       "                        <td id=\"T_db670edf_3c9f_11eb_8cbb_641c67a5d88erow6_col3\" class=\"data row6 col3\" >-0.351370</td>\n",
       "                        <td id=\"T_db670edf_3c9f_11eb_8cbb_641c67a5d88erow6_col4\" class=\"data row6 col4\" >0.195784</td>\n",
       "                        <td id=\"T_db670edf_3c9f_11eb_8cbb_641c67a5d88erow6_col5\" class=\"data row6 col5\" >0.864564</td>\n",
       "                        <td id=\"T_db670edf_3c9f_11eb_8cbb_641c67a5d88erow6_col6\" class=\"data row6 col6\" >1.000000</td>\n",
       "                        <td id=\"T_db670edf_3c9f_11eb_8cbb_641c67a5d88erow6_col7\" class=\"data row6 col7\" >-0.537900</td>\n",
       "                        <td id=\"T_db670edf_3c9f_11eb_8cbb_641c67a5d88erow6_col8\" class=\"data row6 col8\" >0.652692</td>\n",
       "                        <td id=\"T_db670edf_3c9f_11eb_8cbb_641c67a5d88erow6_col9\" class=\"data row6 col9\" >-0.172379</td>\n",
       "                        <td id=\"T_db670edf_3c9f_11eb_8cbb_641c67a5d88erow6_col10\" class=\"data row6 col10\" >0.543479</td>\n",
       "                        <td id=\"T_db670edf_3c9f_11eb_8cbb_641c67a5d88erow6_col11\" class=\"data row6 col11\" >0.787194</td>\n",
       "                        <td id=\"T_db670edf_3c9f_11eb_8cbb_641c67a5d88erow6_col12\" class=\"data row6 col12\" >0.494193</td>\n",
       "            </tr>\n",
       "            <tr>\n",
       "                        <th id=\"T_db670edf_3c9f_11eb_8cbb_641c67a5d88elevel0_row7\" class=\"row_heading level0 row7\" >Nonflavanoid_phenols</th>\n",
       "                        <td id=\"T_db670edf_3c9f_11eb_8cbb_641c67a5d88erow7_col0\" class=\"data row7 col0\" >-0.155929</td>\n",
       "                        <td id=\"T_db670edf_3c9f_11eb_8cbb_641c67a5d88erow7_col1\" class=\"data row7 col1\" >0.292977</td>\n",
       "                        <td id=\"T_db670edf_3c9f_11eb_8cbb_641c67a5d88erow7_col2\" class=\"data row7 col2\" >0.186230</td>\n",
       "                        <td id=\"T_db670edf_3c9f_11eb_8cbb_641c67a5d88erow7_col3\" class=\"data row7 col3\" >0.361922</td>\n",
       "                        <td id=\"T_db670edf_3c9f_11eb_8cbb_641c67a5d88erow7_col4\" class=\"data row7 col4\" >-0.256294</td>\n",
       "                        <td id=\"T_db670edf_3c9f_11eb_8cbb_641c67a5d88erow7_col5\" class=\"data row7 col5\" >-0.449935</td>\n",
       "                        <td id=\"T_db670edf_3c9f_11eb_8cbb_641c67a5d88erow7_col6\" class=\"data row7 col6\" >-0.537900</td>\n",
       "                        <td id=\"T_db670edf_3c9f_11eb_8cbb_641c67a5d88erow7_col7\" class=\"data row7 col7\" >1.000000</td>\n",
       "                        <td id=\"T_db670edf_3c9f_11eb_8cbb_641c67a5d88erow7_col8\" class=\"data row7 col8\" >-0.365845</td>\n",
       "                        <td id=\"T_db670edf_3c9f_11eb_8cbb_641c67a5d88erow7_col9\" class=\"data row7 col9\" >0.139057</td>\n",
       "                        <td id=\"T_db670edf_3c9f_11eb_8cbb_641c67a5d88erow7_col10\" class=\"data row7 col10\" >-0.262640</td>\n",
       "                        <td id=\"T_db670edf_3c9f_11eb_8cbb_641c67a5d88erow7_col11\" class=\"data row7 col11\" >-0.503270</td>\n",
       "                        <td id=\"T_db670edf_3c9f_11eb_8cbb_641c67a5d88erow7_col12\" class=\"data row7 col12\" >-0.311385</td>\n",
       "            </tr>\n",
       "            <tr>\n",
       "                        <th id=\"T_db670edf_3c9f_11eb_8cbb_641c67a5d88elevel0_row8\" class=\"row_heading level0 row8\" >Proanthocyanins</th>\n",
       "                        <td id=\"T_db670edf_3c9f_11eb_8cbb_641c67a5d88erow8_col0\" class=\"data row8 col0\" >0.136698</td>\n",
       "                        <td id=\"T_db670edf_3c9f_11eb_8cbb_641c67a5d88erow8_col1\" class=\"data row8 col1\" >-0.220746</td>\n",
       "                        <td id=\"T_db670edf_3c9f_11eb_8cbb_641c67a5d88erow8_col2\" class=\"data row8 col2\" >0.009652</td>\n",
       "                        <td id=\"T_db670edf_3c9f_11eb_8cbb_641c67a5d88erow8_col3\" class=\"data row8 col3\" >-0.197327</td>\n",
       "                        <td id=\"T_db670edf_3c9f_11eb_8cbb_641c67a5d88erow8_col4\" class=\"data row8 col4\" >0.236441</td>\n",
       "                        <td id=\"T_db670edf_3c9f_11eb_8cbb_641c67a5d88erow8_col5\" class=\"data row8 col5\" >0.612413</td>\n",
       "                        <td id=\"T_db670edf_3c9f_11eb_8cbb_641c67a5d88erow8_col6\" class=\"data row8 col6\" >0.652692</td>\n",
       "                        <td id=\"T_db670edf_3c9f_11eb_8cbb_641c67a5d88erow8_col7\" class=\"data row8 col7\" >-0.365845</td>\n",
       "                        <td id=\"T_db670edf_3c9f_11eb_8cbb_641c67a5d88erow8_col8\" class=\"data row8 col8\" >1.000000</td>\n",
       "                        <td id=\"T_db670edf_3c9f_11eb_8cbb_641c67a5d88erow8_col9\" class=\"data row8 col9\" >-0.025250</td>\n",
       "                        <td id=\"T_db670edf_3c9f_11eb_8cbb_641c67a5d88erow8_col10\" class=\"data row8 col10\" >0.295544</td>\n",
       "                        <td id=\"T_db670edf_3c9f_11eb_8cbb_641c67a5d88erow8_col11\" class=\"data row8 col11\" >0.519067</td>\n",
       "                        <td id=\"T_db670edf_3c9f_11eb_8cbb_641c67a5d88erow8_col12\" class=\"data row8 col12\" >0.330417</td>\n",
       "            </tr>\n",
       "            <tr>\n",
       "                        <th id=\"T_db670edf_3c9f_11eb_8cbb_641c67a5d88elevel0_row9\" class=\"row_heading level0 row9\" >Color_intensity</th>\n",
       "                        <td id=\"T_db670edf_3c9f_11eb_8cbb_641c67a5d88erow9_col0\" class=\"data row9 col0\" >0.546364</td>\n",
       "                        <td id=\"T_db670edf_3c9f_11eb_8cbb_641c67a5d88erow9_col1\" class=\"data row9 col1\" >0.248985</td>\n",
       "                        <td id=\"T_db670edf_3c9f_11eb_8cbb_641c67a5d88erow9_col2\" class=\"data row9 col2\" >0.258887</td>\n",
       "                        <td id=\"T_db670edf_3c9f_11eb_8cbb_641c67a5d88erow9_col3\" class=\"data row9 col3\" >0.018732</td>\n",
       "                        <td id=\"T_db670edf_3c9f_11eb_8cbb_641c67a5d88erow9_col4\" class=\"data row9 col4\" >0.199950</td>\n",
       "                        <td id=\"T_db670edf_3c9f_11eb_8cbb_641c67a5d88erow9_col5\" class=\"data row9 col5\" >-0.055136</td>\n",
       "                        <td id=\"T_db670edf_3c9f_11eb_8cbb_641c67a5d88erow9_col6\" class=\"data row9 col6\" >-0.172379</td>\n",
       "                        <td id=\"T_db670edf_3c9f_11eb_8cbb_641c67a5d88erow9_col7\" class=\"data row9 col7\" >0.139057</td>\n",
       "                        <td id=\"T_db670edf_3c9f_11eb_8cbb_641c67a5d88erow9_col8\" class=\"data row9 col8\" >-0.025250</td>\n",
       "                        <td id=\"T_db670edf_3c9f_11eb_8cbb_641c67a5d88erow9_col9\" class=\"data row9 col9\" >1.000000</td>\n",
       "                        <td id=\"T_db670edf_3c9f_11eb_8cbb_641c67a5d88erow9_col10\" class=\"data row9 col10\" >-0.521813</td>\n",
       "                        <td id=\"T_db670edf_3c9f_11eb_8cbb_641c67a5d88erow9_col11\" class=\"data row9 col11\" >-0.428815</td>\n",
       "                        <td id=\"T_db670edf_3c9f_11eb_8cbb_641c67a5d88erow9_col12\" class=\"data row9 col12\" >0.316100</td>\n",
       "            </tr>\n",
       "            <tr>\n",
       "                        <th id=\"T_db670edf_3c9f_11eb_8cbb_641c67a5d88elevel0_row10\" class=\"row_heading level0 row10\" >Hue</th>\n",
       "                        <td id=\"T_db670edf_3c9f_11eb_8cbb_641c67a5d88erow10_col0\" class=\"data row10 col0\" >-0.071747</td>\n",
       "                        <td id=\"T_db670edf_3c9f_11eb_8cbb_641c67a5d88erow10_col1\" class=\"data row10 col1\" >-0.561296</td>\n",
       "                        <td id=\"T_db670edf_3c9f_11eb_8cbb_641c67a5d88erow10_col2\" class=\"data row10 col2\" >-0.074667</td>\n",
       "                        <td id=\"T_db670edf_3c9f_11eb_8cbb_641c67a5d88erow10_col3\" class=\"data row10 col3\" >-0.273955</td>\n",
       "                        <td id=\"T_db670edf_3c9f_11eb_8cbb_641c67a5d88erow10_col4\" class=\"data row10 col4\" >0.055398</td>\n",
       "                        <td id=\"T_db670edf_3c9f_11eb_8cbb_641c67a5d88erow10_col5\" class=\"data row10 col5\" >0.433681</td>\n",
       "                        <td id=\"T_db670edf_3c9f_11eb_8cbb_641c67a5d88erow10_col6\" class=\"data row10 col6\" >0.543479</td>\n",
       "                        <td id=\"T_db670edf_3c9f_11eb_8cbb_641c67a5d88erow10_col7\" class=\"data row10 col7\" >-0.262640</td>\n",
       "                        <td id=\"T_db670edf_3c9f_11eb_8cbb_641c67a5d88erow10_col8\" class=\"data row10 col8\" >0.295544</td>\n",
       "                        <td id=\"T_db670edf_3c9f_11eb_8cbb_641c67a5d88erow10_col9\" class=\"data row10 col9\" >-0.521813</td>\n",
       "                        <td id=\"T_db670edf_3c9f_11eb_8cbb_641c67a5d88erow10_col10\" class=\"data row10 col10\" >1.000000</td>\n",
       "                        <td id=\"T_db670edf_3c9f_11eb_8cbb_641c67a5d88erow10_col11\" class=\"data row10 col11\" >0.565468</td>\n",
       "                        <td id=\"T_db670edf_3c9f_11eb_8cbb_641c67a5d88erow10_col12\" class=\"data row10 col12\" >0.236183</td>\n",
       "            </tr>\n",
       "            <tr>\n",
       "                        <th id=\"T_db670edf_3c9f_11eb_8cbb_641c67a5d88elevel0_row11\" class=\"row_heading level0 row11\" >OD280/OD315_of_diluted_wines</th>\n",
       "                        <td id=\"T_db670edf_3c9f_11eb_8cbb_641c67a5d88erow11_col0\" class=\"data row11 col0\" >0.072343</td>\n",
       "                        <td id=\"T_db670edf_3c9f_11eb_8cbb_641c67a5d88erow11_col1\" class=\"data row11 col1\" >-0.368710</td>\n",
       "                        <td id=\"T_db670edf_3c9f_11eb_8cbb_641c67a5d88erow11_col2\" class=\"data row11 col2\" >0.003911</td>\n",
       "                        <td id=\"T_db670edf_3c9f_11eb_8cbb_641c67a5d88erow11_col3\" class=\"data row11 col3\" >-0.276769</td>\n",
       "                        <td id=\"T_db670edf_3c9f_11eb_8cbb_641c67a5d88erow11_col4\" class=\"data row11 col4\" >0.066004</td>\n",
       "                        <td id=\"T_db670edf_3c9f_11eb_8cbb_641c67a5d88erow11_col5\" class=\"data row11 col5\" >0.699949</td>\n",
       "                        <td id=\"T_db670edf_3c9f_11eb_8cbb_641c67a5d88erow11_col6\" class=\"data row11 col6\" >0.787194</td>\n",
       "                        <td id=\"T_db670edf_3c9f_11eb_8cbb_641c67a5d88erow11_col7\" class=\"data row11 col7\" >-0.503270</td>\n",
       "                        <td id=\"T_db670edf_3c9f_11eb_8cbb_641c67a5d88erow11_col8\" class=\"data row11 col8\" >0.519067</td>\n",
       "                        <td id=\"T_db670edf_3c9f_11eb_8cbb_641c67a5d88erow11_col9\" class=\"data row11 col9\" >-0.428815</td>\n",
       "                        <td id=\"T_db670edf_3c9f_11eb_8cbb_641c67a5d88erow11_col10\" class=\"data row11 col10\" >0.565468</td>\n",
       "                        <td id=\"T_db670edf_3c9f_11eb_8cbb_641c67a5d88erow11_col11\" class=\"data row11 col11\" >1.000000</td>\n",
       "                        <td id=\"T_db670edf_3c9f_11eb_8cbb_641c67a5d88erow11_col12\" class=\"data row11 col12\" >0.312761</td>\n",
       "            </tr>\n",
       "            <tr>\n",
       "                        <th id=\"T_db670edf_3c9f_11eb_8cbb_641c67a5d88elevel0_row12\" class=\"row_heading level0 row12\" >Proline</th>\n",
       "                        <td id=\"T_db670edf_3c9f_11eb_8cbb_641c67a5d88erow12_col0\" class=\"data row12 col0\" >0.643720</td>\n",
       "                        <td id=\"T_db670edf_3c9f_11eb_8cbb_641c67a5d88erow12_col1\" class=\"data row12 col1\" >-0.192011</td>\n",
       "                        <td id=\"T_db670edf_3c9f_11eb_8cbb_641c67a5d88erow12_col2\" class=\"data row12 col2\" >0.223626</td>\n",
       "                        <td id=\"T_db670edf_3c9f_11eb_8cbb_641c67a5d88erow12_col3\" class=\"data row12 col3\" >-0.440597</td>\n",
       "                        <td id=\"T_db670edf_3c9f_11eb_8cbb_641c67a5d88erow12_col4\" class=\"data row12 col4\" >0.393351</td>\n",
       "                        <td id=\"T_db670edf_3c9f_11eb_8cbb_641c67a5d88erow12_col5\" class=\"data row12 col5\" >0.498115</td>\n",
       "                        <td id=\"T_db670edf_3c9f_11eb_8cbb_641c67a5d88erow12_col6\" class=\"data row12 col6\" >0.494193</td>\n",
       "                        <td id=\"T_db670edf_3c9f_11eb_8cbb_641c67a5d88erow12_col7\" class=\"data row12 col7\" >-0.311385</td>\n",
       "                        <td id=\"T_db670edf_3c9f_11eb_8cbb_641c67a5d88erow12_col8\" class=\"data row12 col8\" >0.330417</td>\n",
       "                        <td id=\"T_db670edf_3c9f_11eb_8cbb_641c67a5d88erow12_col9\" class=\"data row12 col9\" >0.316100</td>\n",
       "                        <td id=\"T_db670edf_3c9f_11eb_8cbb_641c67a5d88erow12_col10\" class=\"data row12 col10\" >0.236183</td>\n",
       "                        <td id=\"T_db670edf_3c9f_11eb_8cbb_641c67a5d88erow12_col11\" class=\"data row12 col11\" >0.312761</td>\n",
       "                        <td id=\"T_db670edf_3c9f_11eb_8cbb_641c67a5d88erow12_col12\" class=\"data row12 col12\" >1.000000</td>\n",
       "            </tr>\n",
       "    </tbody></table>"
      ],
      "text/plain": [
       "<pandas.io.formats.style.Styler at 0x229e9a8ff70>"
      ]
     },
     "execution_count": 31,
     "metadata": {},
     "output_type": "execute_result"
    }
   ],
   "source": [
    "correlation_col = ['Alcohol', 'Malic_acid', 'Ash', 'Alcalinity_of_ash', 'Magnesium', 'Total_phenols', 'Flavanoids', 'Nonflavanoid_phenols', 'Proanthocyanins', 'Color_intensity', 'Hue', 'OD280/OD315_of_diluted_wines', 'Proline']\n",
    "df = pd.DataFrame(train_df[correlation_col])\n",
    "corr = df.corr()\n",
    "corr.style.background_gradient(cmap='coolwarm')"
   ]
  },
  {
   "cell_type": "markdown",
   "metadata": {},
   "source": [
    "# Normalização dos Dados"
   ]
  },
  {
   "cell_type": "code",
   "execution_count": 32,
   "metadata": {},
   "outputs": [],
   "source": [
    "norm_df = preprocessing.Normalizer().fit_transform(train_df)"
   ]
  },
  {
   "cell_type": "markdown",
   "metadata": {},
   "source": [
    "# K-means\n",
    "O K-Means é um algoritmo de clusterização (ou agrupamento) disponível na biblioteca Scikit-Learn. É um algoritmo de aprendizado não supervisionado (ou seja, que não precisa de inputs de confirmação externos) que avalia e clusteriza os dados de acordo com suas características.\n",
    "\n",
    "Este foi analisado através da métrica silhueta. Q foi utilizada para calcular o coeficiente de silhueta médio de todas as amostras. Usando a distância média intra-cluster e a distância média mais próxima do cluster para cada amostra. O melhor valor é 1 e o pior valor é -1.  Valores próximos a 0 indicam clusters sobrepostos. Valores negativos geralmente indicam que uma amostra foi atribuída ao cluster errado, pois há clusters que possuem elementos que se assemelham mais a esta."
   ]
  },
  {
   "cell_type": "code",
   "execution_count": 33,
   "metadata": {},
   "outputs": [
    {
     "name": "stdout",
     "output_type": "stream",
     "text": [
      "BRUTE DATA:\n",
      "\n",
      "K = 2\n",
      "1 - silhouette with max_iter: 0.655521358978658\n",
      "10 - silhouette with max_iter: 0.6568536504294317\n",
      "100 - silhouette with max_iter: 0.6568536504294317\n",
      "#################################################\n",
      "K = 5\n",
      "1 - silhouette with max_iter: 0.5471149220130406\n",
      "10 - silhouette with max_iter: 0.5489993239795681\n",
      "100 - silhouette with max_iter: 0.5489993239795681\n",
      "#################################################\n",
      "K = 10\n",
      "1 - silhouette with max_iter: 0.5077953618313522\n",
      "10 - silhouette with max_iter: 0.5187886561561684\n",
      "100 - silhouette with max_iter: 0.5187886561561684\n",
      "#################################################\n",
      "\n",
      "NORMALIZED DATA:\n",
      "\n",
      "K = 2\n",
      "1 - silhouette with max_iter: 0.53662226606861\n",
      "10 - silhouette with max_iter: 0.5381503708882504\n",
      "100 - silhouette with max_iter: 0.5381503708882504\n",
      "##################################################\n",
      "K = 5\n",
      "1 - silhouette with max_iter: 0.491334353443085\n",
      "10 - silhouette with max_iter: 0.4939024982435685\n",
      "100 - silhouette with max_iter: 0.4939024982435685\n",
      "##################################################\n",
      "K = 10\n",
      "1 - silhouette with max_iter: 0.3589714415660398\n",
      "10 - silhouette with max_iter: 0.3730658186457056\n",
      "100 - silhouette with max_iter: 0.3730658186457056\n",
      "##################################################\n"
     ]
    }
   ],
   "source": [
    "iters = [1, 10, 100]\n",
    "k_values = [2, 5, 10]\n",
    "\n",
    "print(\"BRUTE DATA:\\n\") \n",
    "\n",
    "for k in k_values:\n",
    "    print(\"K =\", k)\n",
    "    for i in iters:\n",
    "        kmeans_model = KMeans(n_clusters = k, max_iter=i, random_state=0)\n",
    "        kmeans_model.fit_predict(train_df)\n",
    "\n",
    "        labels = kmeans_model.labels_\n",
    "        print(\"{i} - silhouette with max_iter:\".format(i=i), metrics.silhouette_score(train_df, labels, metric='euclidean'))\n",
    "\n",
    "    print(\"#################################################\")\n",
    "\n",
    "print(\"\\nNORMALIZED DATA:\\n\")    \n",
    "\n",
    "for k in k_values:\n",
    "    print(\"K =\", k)\n",
    "    for i in iters:\n",
    "        kmeans_model = KMeans(n_clusters = k, max_iter=i, random_state=0)\n",
    "        kmeans_model.fit_predict(norm_df)\n",
    "\n",
    "        labels = kmeans_model.labels_\n",
    "        print(\"{i} - silhouette with max_iter:\".format(i=i), metrics.silhouette_score(norm_df, labels, metric='euclidean'))\n",
    "\n",
    "    print(\"##################################################\")"
   ]
  },
  {
   "cell_type": "markdown",
   "metadata": {},
   "source": [
    "No K-means usando a métrica silhueta foi possivel constatar que os resultados foram melhores quando foram considerados 2 clusters como saída tanto nos dados brutos quanto normalizados, 0.656 e 0.537 respectivamente. Desse modo, temos que 2 é o melhor valor para K, baseado na silhueta. \n",
    "\n",
    "Outro ponto a ser destacado é que valor máximo de iterações no K-Means entre 1, 10 e 100, não teve grande mudança nos resultados sendo a maior delas com K=10 de valor máximo de iterações de 1 = 0.51 e valor máximo de iterações de 10 e 100 = 0.52."
   ]
  },
  {
   "cell_type": "markdown",
   "metadata": {},
   "source": [
    "# Hierárquico (Agglomerative Clustering)\n",
    "Utilização do algoritmo não supervisionado Hierárquico, como o nome sugere, é um algoritmo que constrói a hierarquia de clusters. Esse algoritmo começa com todos os pontos de dados atribuídos a um cluster próprio. Em seguida, dois clusters mais próximos são mesclados no mesmo cluster. No final, esse algoritmo termina quando há apenas um único cluster.\n",
    "\n",
    "Este algoritmo também foi analisado através da métrica silhueta."
   ]
  },
  {
   "cell_type": "code",
   "execution_count": 34,
   "metadata": {},
   "outputs": [
    {
     "name": "stdout",
     "output_type": "stream",
     "text": [
      "BRUTE DATA:\n",
      "\n",
      "K = 2\n",
      "ward - silhouette with linkage: 0.6587292996216912\n",
      "complete - silhouette with linkage: 0.6413290429696278\n",
      "average - silhouette with linkage: 0.6587292996216912\n",
      "single - silhouette with linkage: 0.5393938960075036\n",
      "##################################################\n",
      "K = 5\n",
      "ward - silhouette with linkage: 0.5074843044233789\n",
      "complete - silhouette with linkage: 0.4806117357066238\n",
      "average - silhouette with linkage: 0.545816566301081\n",
      "single - silhouette with linkage: -0.026278424991670837\n",
      "##################################################\n",
      "K = 10\n",
      "ward - silhouette with linkage: 0.5217812922193543\n",
      "complete - silhouette with linkage: 0.5127855272002829\n",
      "average - silhouette with linkage: 0.502473319482436\n",
      "single - silhouette with linkage: 0.20159438328593499\n",
      "##################################################\n",
      "\n",
      "NORMALIZED DATA:\n",
      "\n",
      "K = 2\n",
      "ward - silhouette with linkage: 0.5365826498495794\n",
      "complete - silhouette with linkage: 0.5317187487677043\n",
      "average - silhouette with linkage: 0.5399541683435605\n",
      "single - silhouette with linkage: 0.5442017566194924\n",
      "##################################################\n",
      "K = 5\n",
      "ward - silhouette with linkage: 0.4882448919422759\n",
      "complete - silhouette with linkage: 0.4682182069975541\n",
      "average - silhouette with linkage: 0.46292841961306086\n",
      "single - silhouette with linkage: 0.3084163416392916\n",
      "##################################################\n",
      "K = 10\n",
      "ward - silhouette with linkage: 0.36359371458815537\n",
      "complete - silhouette with linkage: 0.3318178905398683\n",
      "average - silhouette with linkage: 0.3782237986108117\n",
      "single - silhouette with linkage: 0.09699735777116195\n",
      "##################################################\n"
     ]
    }
   ],
   "source": [
    "linkages = ['ward', 'complete', 'average', 'single']\n",
    "\n",
    "print(\"BRUTE DATA:\\n\") \n",
    "\n",
    "for k in k_values:\n",
    "    print(\"K =\", k)\n",
    "    for link in linkages:\n",
    "        ac_model = AgglomerativeClustering(n_clusters=k, linkage=link)\n",
    "        ac_model.fit_predict(train_df)\n",
    "\n",
    "        ac_labels = ac_model.labels_\n",
    "        print(\"{i} - silhouette with linkage:\".format(i=link), metrics.silhouette_score(train_df, ac_labels, metric='euclidean'))\n",
    "    print(\"##################################################\")\n",
    "\n",
    "print(\"\\nNORMALIZED DATA:\\n\")   \n",
    "\n",
    "for k in k_values:\n",
    "    print(\"K =\", k)\n",
    "    for link in linkages:\n",
    "        ac_model = AgglomerativeClustering(n_clusters=k, linkage=link)\n",
    "        ac_model.fit_predict(norm_df)\n",
    "\n",
    "        ac_labels = ac_model.labels_\n",
    "        print(\"{i} - silhouette with linkage:\".format(i=link), metrics.silhouette_score(norm_df, ac_labels, metric='euclidean'))\n",
    "    print(\"##################################################\")"
   ]
  },
  {
   "cell_type": "markdown",
   "metadata": {},
   "source": [
    "No Hierárquico usando a métrica silhueta foi possivel constatar que os melhores resultados foram usando `linkage = 'ward'`. é possível notar que com K = 5, houveram atribuições erradas, tendo em vista que o valor da silhueta quando `linkage = 'single'`."
   ]
  }
 ],
 "metadata": {
  "kernelspec": {
   "display_name": "Python 3",
   "language": "python",
   "name": "python3"
  },
  "language_info": {
   "codemirror_mode": {
    "name": "ipython",
    "version": 3
   },
   "file_extension": ".py",
   "mimetype": "text/x-python",
   "name": "python",
   "nbconvert_exporter": "python",
   "pygments_lexer": "ipython3",
   "version": "3.8.5"
  }
 },
 "nbformat": 4,
 "nbformat_minor": 4
}
