{
 "cells": [
  {
   "cell_type": "code",
   "execution_count": 1,
   "metadata": {},
   "outputs": [],
   "source": [
    "import numpy as np\n",
    "import pandas as pd\n",
    "import matplotlib.pyplot as plt\n",
    "import seaborn as sns\n",
    "\n",
    "from sklearn.model_selection import train_test_split\n",
    "from sklearn.neural_network import MLPClassifier\n",
    "from sklearn.tree import DecisionTreeClassifier\n",
    "from sklearn.ensemble import RandomForestClassifier\n",
    "from imblearn.under_sampling import NearMiss\n",
    "\n",
    "from sklearn.model_selection import cross_val_score\n",
    "from sklearn import preprocessing, metrics, svm\n",
    "\n",
    "import warnings\n",
    "warnings.filterwarnings('ignore')"
   ]
  },
  {
   "cell_type": "code",
   "execution_count": 2,
   "metadata": {},
   "outputs": [
    {
     "data": {
      "text/plain": [
       "indices      0\n",
       "Category     0\n",
       "Age          0\n",
       "Sex          0\n",
       "ALB          1\n",
       "ALP         18\n",
       "ALT          1\n",
       "AST          0\n",
       "BIL          0\n",
       "CHE          0\n",
       "CHOL        10\n",
       "CREA         0\n",
       "GGT          0\n",
       "PROT         1\n",
       "dtype: int64"
      ]
     },
     "execution_count": 2,
     "metadata": {},
     "output_type": "execute_result"
    }
   ],
   "source": [
    "train_df = pd.read_csv(\"datasets/hcvdat0.csv\", encoding='UTF-8')\n",
    "\n",
    "train_df.isnull().sum()"
   ]
  },
  {
   "cell_type": "markdown",
   "metadata": {},
   "source": [
    "# Limpeza dos Dados\n",
    "No caso da coluna 'indices' como refere-se aos indices não precisar ser analizada. As colunas 'ALB', 'ALT' e 'PROT' como tem apenas um dado faltando podemos usar mediana. Já as colunas, 'ALP' e 'CHOL', que tem 10 ou mais dados faltosos foram retiradas, já que o número de amostras é relativamente grande."
   ]
  },
  {
   "cell_type": "code",
   "execution_count": 3,
   "metadata": {},
   "outputs": [],
   "source": [
    "train_df.drop(['indices'], axis=1, inplace = True)"
   ]
  },
  {
   "cell_type": "code",
   "execution_count": 4,
   "metadata": {},
   "outputs": [],
   "source": [
    "train_df['ALB'].fillna(train_df['ALB'].median(), inplace = True)\n",
    "train_df['ALT'].fillna(train_df['ALT'].median(), inplace = True)\n",
    "train_df['PROT'].fillna(train_df['PROT'].median(), inplace = True)"
   ]
  },
  {
   "cell_type": "code",
   "execution_count": 5,
   "metadata": {},
   "outputs": [
    {
     "data": {
      "text/plain": [
       "Category     0\n",
       "Age          0\n",
       "Sex          0\n",
       "ALB          0\n",
       "ALP         18\n",
       "ALT          0\n",
       "AST          0\n",
       "BIL          0\n",
       "CHE          0\n",
       "CHOL        10\n",
       "CREA         0\n",
       "GGT          0\n",
       "PROT         0\n",
       "dtype: int64"
      ]
     },
     "execution_count": 5,
     "metadata": {},
     "output_type": "execute_result"
    }
   ],
   "source": [
    "train_df.isnull().sum()"
   ]
  },
  {
   "cell_type": "code",
   "execution_count": 6,
   "metadata": {},
   "outputs": [
    {
     "data": {
      "text/plain": [
       "Category    0\n",
       "Age         0\n",
       "Sex         0\n",
       "ALB         0\n",
       "ALP         0\n",
       "ALT         0\n",
       "AST         0\n",
       "BIL         0\n",
       "CHE         0\n",
       "CHOL        0\n",
       "CREA        0\n",
       "GGT         0\n",
       "PROT        0\n",
       "dtype: int64"
      ]
     },
     "execution_count": 6,
     "metadata": {},
     "output_type": "execute_result"
    }
   ],
   "source": [
    "train_df.dropna(inplace = True)\n",
    "\n",
    "train_df.isnull().sum()"
   ]
  },
  {
   "cell_type": "code",
   "execution_count": 7,
   "metadata": {},
   "outputs": [
    {
     "name": "stdout",
     "output_type": "stream",
     "text": [
      "['0=Blood Donor' '0s=suspect Blood Donor' '1=Hepatitis' '2=Fibrosis'\n",
      " '3=Cirrhosis']\n",
      "['m' 'f']\n"
     ]
    }
   ],
   "source": [
    "print(train_df['Category'].unique())\n",
    "print(train_df['Sex'].unique())"
   ]
  },
  {
   "cell_type": "markdown",
   "metadata": {},
   "source": [
    "# Transformação de colunas textuais em numéricas\n",
    "As colunas 'Category' e 'Sex' são descritas por texto, entretanto para melhor análise foram transformadas da seguinte forma:\n",
    "\n",
    "Category era dividida em 5 classes: 0=Blood Donor, 0s=suspect Blood Donor, 1=Hepatitis, 2=Fibrosis, 3=Cirrhosis, que foram enumeradas de 0 a 4 respectivamente.\n",
    "\n",
    "E Sex dividida em 'm' e 'f', enumeradas com 0 e 1, respecitivamente."
   ]
  },
  {
   "cell_type": "code",
   "execution_count": 8,
   "metadata": {},
   "outputs": [
    {
     "name": "stdout",
     "output_type": "stream",
     "text": [
      "0    364\n",
      "1    226\n",
      "Name: Sex, dtype: int64\n"
     ]
    },
    {
     "data": {
      "text/plain": [
       "<AxesSubplot:ylabel='Frequency'>"
      ]
     },
     "execution_count": 8,
     "metadata": {},
     "output_type": "execute_result"
    },
    {
     "data": {
      "image/png": "[encoded data removed]",
      "text/plain": [
       "<Figure size 432x288 with 1 Axes>"
      ]
     },
     "metadata": {
      "needs_background": "light"
     },
     "output_type": "display_data"
    }
   ],
   "source": [
    "sex_dict = {'m': 0, 'f': 1}\n",
    "train_df = train_df.replace(sex_dict)\n",
    "\n",
    "print(train_df['Sex'].value_counts())\n",
    "train_df['Sex'].plot(kind='hist')"
   ]
  },
  {
   "cell_type": "code",
   "execution_count": 9,
   "metadata": {},
   "outputs": [
    {
     "name": "stdout",
     "output_type": "stream",
     "text": [
      "0    526\n",
      "4     24\n",
      "2     21\n",
      "3     12\n",
      "1      7\n",
      "Name: Category, dtype: int64\n"
     ]
    },
    {
     "data": {
      "text/plain": [
       "<AxesSubplot:ylabel='Frequency'>"
      ]
     },
     "execution_count": 9,
     "metadata": {},
     "output_type": "execute_result"
    },
    {
     "data": {
      "image/png": "[encoded data removed]",
      "text/plain": [
       "<Figure size 432x288 with 1 Axes>"
      ]
     },
     "metadata": {
      "needs_background": "light"
     },
     "output_type": "display_data"
    }
   ],
   "source": [
    "category_dict = {'0=Blood Donor': 0, '0s=suspect Blood Donor': 1, '1=Hepatitis': 2, '2=Fibrosis': 3, '3=Cirrhosis': 4}\n",
    "train_df = train_df.replace(category_dict)\n",
    "\n",
    "print(train_df['Category'].value_counts())\n",
    "train_df['Category'].plot(kind='hist')"
   ]
  },
  {
   "cell_type": "markdown",
   "metadata": {},
   "source": [
    "# Analisando os Dados\n",
    "Foram plotados histogramas para melhor entender a quantidade de doadores e não doadores, a idade e sexo dos mesmos.\n",
    "\n",
    "A partir do histograma plotado acima, percebemos que a quantidade de Doadores é muito maior que a do restante das amostras classificados como: '0s=suspect Blood Donor', '1=Hepatitis', '2=Fibrosis', '3=Cirrhosis'. Estes foram classificados como sendo Não Doadores. Ficando agora com duas classes Doadores e Não doadores."
   ]
  },
  {
   "cell_type": "code",
   "execution_count": 10,
   "metadata": {},
   "outputs": [
    {
     "name": "stdout",
     "output_type": "stream",
     "text": [
      "0    526\n",
      "1     64\n",
      "Name: Category, dtype: int64\n"
     ]
    },
    {
     "data": {
      "text/plain": [
       "<AxesSubplot:ylabel='Frequency'>"
      ]
     },
     "execution_count": 10,
     "metadata": {},
     "output_type": "execute_result"
    },
    {
     "data": {
      "image/png": "[encoded data removed]",
      "text/plain": [
       "<Figure size 432x288 with 1 Axes>"
      ]
     },
     "metadata": {
      "needs_background": "light"
     },
     "output_type": "display_data"
    }
   ],
   "source": [
    "def category_to_binary(x):\n",
    "    if x == 0:\n",
    "        return 0\n",
    "    else:\n",
    "        return 1\n",
    "    \n",
    "train_df['Category'] = train_df['Category'].apply(category_to_binary)\n",
    "\n",
    "print(train_df['Category'].value_counts())\n",
    "train_df['Category'].plot(kind='hist')"
   ]
  },
  {
   "cell_type": "markdown",
   "metadata": {},
   "source": [
    "Também, podemos analizar que a maior parte possue entre 35 a 55 anos."
   ]
  },
  {
   "cell_type": "code",
   "execution_count": 11,
   "metadata": {},
   "outputs": [
    {
     "name": "stdout",
     "output_type": "stream",
     "text": [
      "46    29\n",
      "48    26\n",
      "33    24\n",
      "51    23\n",
      "52    22\n",
      "35    21\n",
      "37    20\n",
      "44    20\n",
      "50    20\n",
      "47    19\n",
      "56    19\n",
      "38    19\n",
      "53    19\n",
      "43    19\n",
      "45    19\n",
      "34    19\n",
      "49    18\n",
      "59    17\n",
      "36    16\n",
      "32    16\n",
      "41    16\n",
      "57    15\n",
      "39    15\n",
      "55    14\n",
      "40    14\n",
      "42    13\n",
      "60    12\n",
      "54    12\n",
      "58    10\n",
      "64     9\n",
      "61     9\n",
      "62     8\n",
      "65     7\n",
      "63     6\n",
      "68     4\n",
      "66     4\n",
      "67     3\n",
      "70     3\n",
      "76     2\n",
      "71     2\n",
      "74     2\n",
      "27     1\n",
      "25     1\n",
      "77     1\n",
      "29     1\n",
      "23     1\n",
      "Name: Age, dtype: int64\n"
     ]
    },
    {
     "data": {
      "text/plain": [
       "<AxesSubplot:ylabel='Frequency'>"
      ]
     },
     "execution_count": 11,
     "metadata": {},
     "output_type": "execute_result"
    },
    {
     "data": {
      "image/png": "[encoded data removed]",
      "text/plain": [
       "<Figure size 432x288 with 1 Axes>"
      ]
     },
     "metadata": {
      "needs_background": "light"
     },
     "output_type": "display_data"
    }
   ],
   "source": [
    "print(train_df['Age'].value_counts())\n",
    "train_df['Age'].plot(kind='hist')"
   ]
  },
  {
   "cell_type": "markdown",
   "metadata": {},
   "source": [
    "Ademais, que nota-se que a maior parte da amostra era do sexo masculino."
   ]
  },
  {
   "cell_type": "code",
   "execution_count": 12,
   "metadata": {},
   "outputs": [
    {
     "name": "stdout",
     "output_type": "stream",
     "text": [
      "0    364\n",
      "1    226\n",
      "Name: Sex, dtype: int64\n"
     ]
    },
    {
     "data": {
      "text/plain": [
       "<AxesSubplot:ylabel='Frequency'>"
      ]
     },
     "execution_count": 12,
     "metadata": {},
     "output_type": "execute_result"
    },
    {
     "data": {
      "image/png": "[encoded data removed]",
      "text/plain": [
       "<Figure size 432x288 with 1 Axes>"
      ]
     },
     "metadata": {
      "needs_background": "light"
     },
     "output_type": "display_data"
    }
   ],
   "source": [
    "print(train_df['Sex'].value_counts())\n",
    "train_df['Sex'].plot(kind='hist')"
   ]
  },
  {
   "cell_type": "markdown",
   "metadata": {},
   "source": [
    "# Verificando presença de Outliers\n",
    "As classes 'ALB', 'ALP', 'ALT', 'AST', 'BIL', 'CHE', 'CHOL', 'CREA', 'GGT' e 'PROT' foram chegadas. Percebendo outliers claros principalmente nas celulas 'AST' e 'GGT'. As colunas 'ALB', 'ALP', 'ALT', 'BIL', 'CREA' e 'PROT' possuem quantidades relavantes, entretanto não estão comprometidas pois, podem ser limitadas. E as colunas 'CHE' e 'CHOL' não possuem outliers consideráveis."
   ]
  },
  {
   "cell_type": "code",
   "execution_count": 13,
   "metadata": {},
   "outputs": [
    {
     "data": {
      "text/plain": [
       "<AxesSubplot:title={'center':'ALB'}>"
      ]
     },
     "execution_count": 13,
     "metadata": {},
     "output_type": "execute_result"
    },
    {
     "data": {
      "image/png": "[encoded data removed]",
      "text/plain": [
       "<Figure size 432x288 with 1 Axes>"
      ]
     },
     "metadata": {
      "needs_background": "light"
     },
     "output_type": "display_data"
    }
   ],
   "source": [
    "train_df['ALB'].plot(kind='box', title='ALB')"
   ]
  },
  {
   "cell_type": "code",
   "execution_count": 14,
   "metadata": {},
   "outputs": [
    {
     "data": {
      "text/plain": [
       "<AxesSubplot:title={'center':'ALP'}>"
      ]
     },
     "execution_count": 14,
     "metadata": {},
     "output_type": "execute_result"
    },
    {
     "data": {
      "image/png": "[encoded data removed]",
      "text/plain": [
       "<Figure size 432x288 with 1 Axes>"
      ]
     },
     "metadata": {
      "needs_background": "light"
     },
     "output_type": "display_data"
    }
   ],
   "source": [
    "train_df['ALP'].plot(kind='box', title='ALP')"
   ]
  },
  {
   "cell_type": "code",
   "execution_count": 15,
   "metadata": {},
   "outputs": [
    {
     "data": {
      "text/plain": [
       "<AxesSubplot:title={'center':'ALT'}>"
      ]
     },
     "execution_count": 15,
     "metadata": {},
     "output_type": "execute_result"
    },
    {
     "data": {
      "image/png": "[encoded data removed]",
      "text/plain": [
       "<Figure size 432x288 with 1 Axes>"
      ]
     },
     "metadata": {
      "needs_background": "light"
     },
     "output_type": "display_data"
    }
   ],
   "source": [
    "train_df['ALT'].plot(kind='box', title='ALT')"
   ]
  },
  {
   "cell_type": "code",
   "execution_count": 16,
   "metadata": {},
   "outputs": [
    {
     "data": {
      "text/plain": [
       "<AxesSubplot:title={'center':'AST'}>"
      ]
     },
     "execution_count": 16,
     "metadata": {},
     "output_type": "execute_result"
    },
    {
     "data": {
      "image/png": "[encoded data removed]",
      "text/plain": [
       "<Figure size 432x288 with 1 Axes>"
      ]
     },
     "metadata": {
      "needs_background": "light"
     },
     "output_type": "display_data"
    }
   ],
   "source": [
    "train_df['AST'].plot(kind='box', title='AST')"
   ]
  },
  {
   "cell_type": "code",
   "execution_count": 17,
   "metadata": {},
   "outputs": [
    {
     "data": {
      "text/plain": [
       "<AxesSubplot:title={'center':'BIL'}>"
      ]
     },
     "execution_count": 17,
     "metadata": {},
     "output_type": "execute_result"
    },
    {
     "data": {
      "image/png": "[encoded data removed]",
      "text/plain": [
       "<Figure size 432x288 with 1 Axes>"
      ]
     },
     "metadata": {
      "needs_background": "light"
     },
     "output_type": "display_data"
    }
   ],
   "source": [
    "train_df['BIL'].plot(kind='box', title='BIL')"
   ]
  },
  {
   "cell_type": "code",
   "execution_count": 18,
   "metadata": {},
   "outputs": [
    {
     "data": {
      "text/plain": [
       "<AxesSubplot:title={'center':'CHE'}>"
      ]
     },
     "execution_count": 18,
     "metadata": {},
     "output_type": "execute_result"
    },
    {
     "data": {
      "image/png": "[encoded data removed]",
      "text/plain": [
       "<Figure size 432x288 with 1 Axes>"
      ]
     },
     "metadata": {
      "needs_background": "light"
     },
     "output_type": "display_data"
    }
   ],
   "source": [
    "train_df['CHE'].plot(kind='box', title='CHE')"
   ]
  },
  {
   "cell_type": "code",
   "execution_count": 19,
   "metadata": {},
   "outputs": [
    {
     "data": {
      "text/plain": [
       "<AxesSubplot:title={'center':'CHOL'}>"
      ]
     },
     "execution_count": 19,
     "metadata": {},
     "output_type": "execute_result"
    },
    {
     "data": {
      "image/png": "[encoded data removed]",
      "text/plain": [
       "<Figure size 432x288 with 1 Axes>"
      ]
     },
     "metadata": {
      "needs_background": "light"
     },
     "output_type": "display_data"
    }
   ],
   "source": [
    "train_df['CHOL'].plot(kind='box', title='CHOL')"
   ]
  },
  {
   "cell_type": "code",
   "execution_count": 20,
   "metadata": {},
   "outputs": [
    {
     "data": {
      "text/plain": [
       "<AxesSubplot:title={'center':'CREA'}>"
      ]
     },
     "execution_count": 20,
     "metadata": {},
     "output_type": "execute_result"
    },
    {
     "data": {
      "image/png": "[encoded data removed]",
      "text/plain": [
       "<Figure size 432x288 with 1 Axes>"
      ]
     },
     "metadata": {
      "needs_background": "light"
     },
     "output_type": "display_data"
    }
   ],
   "source": [
    "train_df['CREA'].plot(kind='box', title='CREA')"
   ]
  },
  {
   "cell_type": "code",
   "execution_count": 21,
   "metadata": {},
   "outputs": [
    {
     "data": {
      "text/plain": [
       "<AxesSubplot:title={'center':'GGT'}>"
      ]
     },
     "execution_count": 21,
     "metadata": {},
     "output_type": "execute_result"
    },
    {
     "data": {
      "image/png": "[encoded data removed]",
      "text/plain": [
       "<Figure size 432x288 with 1 Axes>"
      ]
     },
     "metadata": {
      "needs_background": "light"
     },
     "output_type": "display_data"
    }
   ],
   "source": [
    "train_df['GGT'].plot(kind='box', title='GGT')"
   ]
  },
  {
   "cell_type": "code",
   "execution_count": 22,
   "metadata": {},
   "outputs": [
    {
     "data": {
      "text/plain": [
       "<AxesSubplot:title={'center':'PROT'}>"
      ]
     },
     "execution_count": 22,
     "metadata": {},
     "output_type": "execute_result"
    },
    {
     "data": {
      "image/png": "[encoded data removed]",
      "text/plain": [
       "<Figure size 432x288 with 1 Axes>"
      ]
     },
     "metadata": {
      "needs_background": "light"
     },
     "output_type": "display_data"
    }
   ],
   "source": [
    "train_df['PROT'].plot(kind='box', title='PROT')"
   ]
  },
  {
   "cell_type": "markdown",
   "metadata": {},
   "source": [
    "# Matriz de Correlação\n",
    "Para descobrir se existe alta correlação entre as colunas, foi feita a matriz de correlação. Sendo verificado que, 'ALB' e 'PROT', 'Category' e 'AST' possuem uma correlação moderada. As colunas 'Category' e 'BIL', 'Category' e 'GGT' 'ALB' e 'CHE', 'ALP' e 'GGT', 'AST' e 'BIL', 'AST' e 'GGT', assim como 'CHE' e 'CHOL', possuem uma correlação fraca, e as demais correlação desprezível.\n",
    "\n",
    "Não foi constatada alta correlação entre as classes."
   ]
  },
  {
   "cell_type": "code",
   "execution_count": 23,
   "metadata": {},
   "outputs": [
    {
     "data": {
      "text/html": [
       "<style  type=\"text/css\" >\n",
       "#T_c878f30b_3c9f_11eb_8b6a_641c67a5d88erow0_col0,#T_c878f30b_3c9f_11eb_8b6a_641c67a5d88erow1_col1,#T_c878f30b_3c9f_11eb_8b6a_641c67a5d88erow2_col2,#T_c878f30b_3c9f_11eb_8b6a_641c67a5d88erow3_col3,#T_c878f30b_3c9f_11eb_8b6a_641c67a5d88erow4_col4,#T_c878f30b_3c9f_11eb_8b6a_641c67a5d88erow5_col5,#T_c878f30b_3c9f_11eb_8b6a_641c67a5d88erow6_col6,#T_c878f30b_3c9f_11eb_8b6a_641c67a5d88erow7_col7,#T_c878f30b_3c9f_11eb_8b6a_641c67a5d88erow8_col8,#T_c878f30b_3c9f_11eb_8b6a_641c67a5d88erow9_col9,#T_c878f30b_3c9f_11eb_8b6a_641c67a5d88erow10_col10,#T_c878f30b_3c9f_11eb_8b6a_641c67a5d88erow11_col11,#T_c878f30b_3c9f_11eb_8b6a_641c67a5d88erow12_col12{\n",
       "            background-color:  #b40426;\n",
       "            color:  #f1f1f1;\n",
       "        }#T_c878f30b_3c9f_11eb_8b6a_641c67a5d88erow0_col1,#T_c878f30b_3c9f_11eb_8b6a_641c67a5d88erow10_col3{\n",
       "            background-color:  #81a4fb;\n",
       "            color:  #000000;\n",
       "        }#T_c878f30b_3c9f_11eb_8b6a_641c67a5d88erow0_col2,#T_c878f30b_3c9f_11eb_8b6a_641c67a5d88erow4_col12,#T_c878f30b_3c9f_11eb_8b6a_641c67a5d88erow7_col3{\n",
       "            background-color:  #5470de;\n",
       "            color:  #000000;\n",
       "        }#T_c878f30b_3c9f_11eb_8b6a_641c67a5d88erow0_col3,#T_c878f30b_3c9f_11eb_8b6a_641c67a5d88erow0_col9,#T_c878f30b_3c9f_11eb_8b6a_641c67a5d88erow1_col12,#T_c878f30b_3c9f_11eb_8b6a_641c67a5d88erow2_col5,#T_c878f30b_3c9f_11eb_8b6a_641c67a5d88erow2_col10,#T_c878f30b_3c9f_11eb_8b6a_641c67a5d88erow3_col0,#T_c878f30b_3c9f_11eb_8b6a_641c67a5d88erow3_col1,#T_c878f30b_3c9f_11eb_8b6a_641c67a5d88erow3_col4,#T_c878f30b_3c9f_11eb_8b6a_641c67a5d88erow3_col11,#T_c878f30b_3c9f_11eb_8b6a_641c67a5d88erow7_col8,#T_c878f30b_3c9f_11eb_8b6a_641c67a5d88erow8_col2,#T_c878f30b_3c9f_11eb_8b6a_641c67a5d88erow8_col6,#T_c878f30b_3c9f_11eb_8b6a_641c67a5d88erow8_col7,#T_c878f30b_3c9f_11eb_8b6a_641c67a5d88erow9_col6{\n",
       "            background-color:  #3b4cc0;\n",
       "            color:  #f1f1f1;\n",
       "        }#T_c878f30b_3c9f_11eb_8b6a_641c67a5d88erow0_col4,#T_c878f30b_3c9f_11eb_8b6a_641c67a5d88erow0_col5,#T_c878f30b_3c9f_11eb_8b6a_641c67a5d88erow12_col0{\n",
       "            background-color:  #6180e9;\n",
       "            color:  #000000;\n",
       "        }#T_c878f30b_3c9f_11eb_8b6a_641c67a5d88erow0_col6{\n",
       "            background-color:  #f7af91;\n",
       "            color:  #000000;\n",
       "        }#T_c878f30b_3c9f_11eb_8b6a_641c67a5d88erow0_col7{\n",
       "            background-color:  #e9d5cb;\n",
       "            color:  #000000;\n",
       "        }#T_c878f30b_3c9f_11eb_8b6a_641c67a5d88erow0_col8,#T_c878f30b_3c9f_11eb_8b6a_641c67a5d88erow7_col2{\n",
       "            background-color:  #4e68d8;\n",
       "            color:  #000000;\n",
       "        }#T_c878f30b_3c9f_11eb_8b6a_641c67a5d88erow0_col10,#T_c878f30b_3c9f_11eb_8b6a_641c67a5d88erow10_col7{\n",
       "            background-color:  #90b2fe;\n",
       "            color:  #000000;\n",
       "        }#T_c878f30b_3c9f_11eb_8b6a_641c67a5d88erow0_col11,#T_c878f30b_3c9f_11eb_8b6a_641c67a5d88erow6_col11,#T_c878f30b_3c9f_11eb_8b6a_641c67a5d88erow8_col9{\n",
       "            background-color:  #e8d6cc;\n",
       "            color:  #000000;\n",
       "        }#T_c878f30b_3c9f_11eb_8b6a_641c67a5d88erow0_col12,#T_c878f30b_3c9f_11eb_8b6a_641c67a5d88erow8_col0{\n",
       "            background-color:  #445acc;\n",
       "            color:  #f1f1f1;\n",
       "        }#T_c878f30b_3c9f_11eb_8b6a_641c67a5d88erow1_col0,#T_c878f30b_3c9f_11eb_8b6a_641c67a5d88erow4_col10{\n",
       "            background-color:  #93b5fe;\n",
       "            color:  #000000;\n",
       "        }#T_c878f30b_3c9f_11eb_8b6a_641c67a5d88erow1_col2,#T_c878f30b_3c9f_11eb_8b6a_641c67a5d88erow10_col9,#T_c878f30b_3c9f_11eb_8b6a_641c67a5d88erow12_col5{\n",
       "            background-color:  #6f92f3;\n",
       "            color:  #000000;\n",
       "        }#T_c878f30b_3c9f_11eb_8b6a_641c67a5d88erow1_col3{\n",
       "            background-color:  #4f69d9;\n",
       "            color:  #000000;\n",
       "        }#T_c878f30b_3c9f_11eb_8b6a_641c67a5d88erow1_col4,#T_c878f30b_3c9f_11eb_8b6a_641c67a5d88erow11_col1{\n",
       "            background-color:  #98b9ff;\n",
       "            color:  #000000;\n",
       "        }#T_c878f30b_3c9f_11eb_8b6a_641c67a5d88erow1_col5,#T_c878f30b_3c9f_11eb_8b6a_641c67a5d88erow1_col10,#T_c878f30b_3c9f_11eb_8b6a_641c67a5d88erow3_col7{\n",
       "            background-color:  #5e7de7;\n",
       "            color:  #000000;\n",
       "        }#T_c878f30b_3c9f_11eb_8b6a_641c67a5d88erow1_col6,#T_c878f30b_3c9f_11eb_8b6a_641c67a5d88erow2_col9{\n",
       "            background-color:  #85a8fc;\n",
       "            color:  #000000;\n",
       "        }#T_c878f30b_3c9f_11eb_8b6a_641c67a5d88erow1_col7{\n",
       "            background-color:  #94b6ff;\n",
       "            color:  #000000;\n",
       "        }#T_c878f30b_3c9f_11eb_8b6a_641c67a5d88erow1_col8,#T_c878f30b_3c9f_11eb_8b6a_641c67a5d88erow3_col5,#T_c878f30b_3c9f_11eb_8b6a_641c67a5d88erow6_col4{\n",
       "            background-color:  #7699f6;\n",
       "            color:  #000000;\n",
       "        }#T_c878f30b_3c9f_11eb_8b6a_641c67a5d88erow1_col9{\n",
       "            background-color:  #9fbfff;\n",
       "            color:  #000000;\n",
       "        }#T_c878f30b_3c9f_11eb_8b6a_641c67a5d88erow1_col11{\n",
       "            background-color:  #8fb1fe;\n",
       "            color:  #000000;\n",
       "        }#T_c878f30b_3c9f_11eb_8b6a_641c67a5d88erow2_col0,#T_c878f30b_3c9f_11eb_8b6a_641c67a5d88erow5_col12,#T_c878f30b_3c9f_11eb_8b6a_641c67a5d88erow6_col12{\n",
       "            background-color:  #6a8bef;\n",
       "            color:  #000000;\n",
       "        }#T_c878f30b_3c9f_11eb_8b6a_641c67a5d88erow2_col1{\n",
       "            background-color:  #7295f4;\n",
       "            color:  #000000;\n",
       "        }#T_c878f30b_3c9f_11eb_8b6a_641c67a5d88erow2_col3,#T_c878f30b_3c9f_11eb_8b6a_641c67a5d88erow2_col12{\n",
       "            background-color:  #5977e3;\n",
       "            color:  #000000;\n",
       "        }#T_c878f30b_3c9f_11eb_8b6a_641c67a5d88erow2_col4,#T_c878f30b_3c9f_11eb_8b6a_641c67a5d88erow9_col11{\n",
       "            background-color:  #6485ec;\n",
       "            color:  #000000;\n",
       "        }#T_c878f30b_3c9f_11eb_8b6a_641c67a5d88erow2_col6,#T_c878f30b_3c9f_11eb_8b6a_641c67a5d88erow7_col5,#T_c878f30b_3c9f_11eb_8b6a_641c67a5d88erow7_col9{\n",
       "            background-color:  #4c66d6;\n",
       "            color:  #000000;\n",
       "        }#T_c878f30b_3c9f_11eb_8b6a_641c67a5d88erow2_col7,#T_c878f30b_3c9f_11eb_8b6a_641c67a5d88erow4_col2,#T_c878f30b_3c9f_11eb_8b6a_641c67a5d88erow5_col7{\n",
       "            background-color:  #6e90f2;\n",
       "            color:  #000000;\n",
       "        }#T_c878f30b_3c9f_11eb_8b6a_641c67a5d88erow2_col8,#T_c878f30b_3c9f_11eb_8b6a_641c67a5d88erow4_col3,#T_c878f30b_3c9f_11eb_8b6a_641c67a5d88erow5_col10,#T_c878f30b_3c9f_11eb_8b6a_641c67a5d88erow9_col7,#T_c878f30b_3c9f_11eb_8b6a_641c67a5d88erow11_col3,#T_c878f30b_3c9f_11eb_8b6a_641c67a5d88erow11_col12{\n",
       "            background-color:  #5a78e4;\n",
       "            color:  #000000;\n",
       "        }#T_c878f30b_3c9f_11eb_8b6a_641c67a5d88erow2_col11{\n",
       "            background-color:  #3f53c6;\n",
       "            color:  #f1f1f1;\n",
       "        }#T_c878f30b_3c9f_11eb_8b6a_641c67a5d88erow3_col2{\n",
       "            background-color:  #4257c9;\n",
       "            color:  #f1f1f1;\n",
       "        }#T_c878f30b_3c9f_11eb_8b6a_641c67a5d88erow3_col6,#T_c878f30b_3c9f_11eb_8b6a_641c67a5d88erow10_col2{\n",
       "            background-color:  #4055c8;\n",
       "            color:  #f1f1f1;\n",
       "        }#T_c878f30b_3c9f_11eb_8b6a_641c67a5d88erow3_col8{\n",
       "            background-color:  #e1dad6;\n",
       "            color:  #000000;\n",
       "        }#T_c878f30b_3c9f_11eb_8b6a_641c67a5d88erow3_col9{\n",
       "            background-color:  #b7cff9;\n",
       "            color:  #000000;\n",
       "        }#T_c878f30b_3c9f_11eb_8b6a_641c67a5d88erow3_col10,#T_c878f30b_3c9f_11eb_8b6a_641c67a5d88erow10_col1{\n",
       "            background-color:  #6687ed;\n",
       "            color:  #000000;\n",
       "        }#T_c878f30b_3c9f_11eb_8b6a_641c67a5d88erow3_col12{\n",
       "            background-color:  #f5c4ac;\n",
       "            color:  #000000;\n",
       "        }#T_c878f30b_3c9f_11eb_8b6a_641c67a5d88erow4_col0,#T_c878f30b_3c9f_11eb_8b6a_641c67a5d88erow11_col9{\n",
       "            background-color:  #80a3fa;\n",
       "            color:  #000000;\n",
       "        }#T_c878f30b_3c9f_11eb_8b6a_641c67a5d88erow4_col1,#T_c878f30b_3c9f_11eb_8b6a_641c67a5d88erow7_col11{\n",
       "            background-color:  #a2c1ff;\n",
       "            color:  #000000;\n",
       "        }#T_c878f30b_3c9f_11eb_8b6a_641c67a5d88erow4_col5,#T_c878f30b_3c9f_11eb_8b6a_641c67a5d88erow11_col5{\n",
       "            background-color:  #abc8fd;\n",
       "            color:  #000000;\n",
       "        }#T_c878f30b_3c9f_11eb_8b6a_641c67a5d88erow4_col6{\n",
       "            background-color:  #84a7fc;\n",
       "            color:  #000000;\n",
       "        }#T_c878f30b_3c9f_11eb_8b6a_641c67a5d88erow4_col7{\n",
       "            background-color:  #9abbff;\n",
       "            color:  #000000;\n",
       "        }#T_c878f30b_3c9f_11eb_8b6a_641c67a5d88erow4_col8,#T_c878f30b_3c9f_11eb_8b6a_641c67a5d88erow9_col1,#T_c878f30b_3c9f_11eb_8b6a_641c67a5d88erow10_col4{\n",
       "            background-color:  #92b4fe;\n",
       "            color:  #000000;\n",
       "        }#T_c878f30b_3c9f_11eb_8b6a_641c67a5d88erow4_col9{\n",
       "            background-color:  #a1c0ff;\n",
       "            color:  #000000;\n",
       "        }#T_c878f30b_3c9f_11eb_8b6a_641c67a5d88erow4_col11,#T_c878f30b_3c9f_11eb_8b6a_641c67a5d88erow11_col4{\n",
       "            background-color:  #e4d9d2;\n",
       "            color:  #000000;\n",
       "        }#T_c878f30b_3c9f_11eb_8b6a_641c67a5d88erow5_col0,#T_c878f30b_3c9f_11eb_8b6a_641c67a5d88erow7_col1{\n",
       "            background-color:  #799cf8;\n",
       "            color:  #000000;\n",
       "        }#T_c878f30b_3c9f_11eb_8b6a_641c67a5d88erow5_col1,#T_c878f30b_3c9f_11eb_8b6a_641c67a5d88erow8_col10{\n",
       "            background-color:  #6282ea;\n",
       "            color:  #000000;\n",
       "        }#T_c878f30b_3c9f_11eb_8b6a_641c67a5d88erow5_col2{\n",
       "            background-color:  #3c4ec2;\n",
       "            color:  #f1f1f1;\n",
       "        }#T_c878f30b_3c9f_11eb_8b6a_641c67a5d88erow5_col3{\n",
       "            background-color:  #8caffe;\n",
       "            color:  #000000;\n",
       "        }#T_c878f30b_3c9f_11eb_8b6a_641c67a5d88erow5_col4{\n",
       "            background-color:  #a6c4fe;\n",
       "            color:  #000000;\n",
       "        }#T_c878f30b_3c9f_11eb_8b6a_641c67a5d88erow5_col6{\n",
       "            background-color:  #aac7fd;\n",
       "            color:  #000000;\n",
       "        }#T_c878f30b_3c9f_11eb_8b6a_641c67a5d88erow5_col8{\n",
       "            background-color:  #c4d5f3;\n",
       "            color:  #000000;\n",
       "        }#T_c878f30b_3c9f_11eb_8b6a_641c67a5d88erow5_col9{\n",
       "            background-color:  #a7c5fe;\n",
       "            color:  #000000;\n",
       "        }#T_c878f30b_3c9f_11eb_8b6a_641c67a5d88erow5_col11,#T_c878f30b_3c9f_11eb_8b6a_641c67a5d88erow6_col5{\n",
       "            background-color:  #a5c3fe;\n",
       "            color:  #000000;\n",
       "        }#T_c878f30b_3c9f_11eb_8b6a_641c67a5d88erow6_col0{\n",
       "            background-color:  #f7a889;\n",
       "            color:  #000000;\n",
       "        }#T_c878f30b_3c9f_11eb_8b6a_641c67a5d88erow6_col1{\n",
       "            background-color:  #82a6fb;\n",
       "            color:  #000000;\n",
       "        }#T_c878f30b_3c9f_11eb_8b6a_641c67a5d88erow6_col2,#T_c878f30b_3c9f_11eb_8b6a_641c67a5d88erow6_col9,#T_c878f30b_3c9f_11eb_8b6a_641c67a5d88erow8_col11,#T_c878f30b_3c9f_11eb_8b6a_641c67a5d88erow11_col2{\n",
       "            background-color:  #485fd1;\n",
       "            color:  #f1f1f1;\n",
       "        }#T_c878f30b_3c9f_11eb_8b6a_641c67a5d88erow6_col3{\n",
       "            background-color:  #536edd;\n",
       "            color:  #000000;\n",
       "        }#T_c878f30b_3c9f_11eb_8b6a_641c67a5d88erow6_col7{\n",
       "            background-color:  #d7dce3;\n",
       "            color:  #000000;\n",
       "        }#T_c878f30b_3c9f_11eb_8b6a_641c67a5d88erow6_col8,#T_c878f30b_3c9f_11eb_8b6a_641c67a5d88erow7_col12,#T_c878f30b_3c9f_11eb_8b6a_641c67a5d88erow9_col10{\n",
       "            background-color:  #5673e0;\n",
       "            color:  #000000;\n",
       "        }#T_c878f30b_3c9f_11eb_8b6a_641c67a5d88erow6_col10,#T_c878f30b_3c9f_11eb_8b6a_641c67a5d88erow10_col5,#T_c878f30b_3c9f_11eb_8b6a_641c67a5d88erow12_col2{\n",
       "            background-color:  #5f7fe8;\n",
       "            color:  #000000;\n",
       "        }#T_c878f30b_3c9f_11eb_8b6a_641c67a5d88erow7_col0{\n",
       "            background-color:  #e5d8d1;\n",
       "            color:  #000000;\n",
       "        }#T_c878f30b_3c9f_11eb_8b6a_641c67a5d88erow7_col4,#T_c878f30b_3c9f_11eb_8b6a_641c67a5d88erow9_col2{\n",
       "            background-color:  #7396f5;\n",
       "            color:  #000000;\n",
       "        }#T_c878f30b_3c9f_11eb_8b6a_641c67a5d88erow7_col6{\n",
       "            background-color:  #c7d7f0;\n",
       "            color:  #000000;\n",
       "        }#T_c878f30b_3c9f_11eb_8b6a_641c67a5d88erow7_col10,#T_c878f30b_3c9f_11eb_8b6a_641c67a5d88erow8_col4,#T_c878f30b_3c9f_11eb_8b6a_641c67a5d88erow10_col6{\n",
       "            background-color:  #6b8df0;\n",
       "            color:  #000000;\n",
       "        }#T_c878f30b_3c9f_11eb_8b6a_641c67a5d88erow8_col1,#T_c878f30b_3c9f_11eb_8b6a_641c67a5d88erow12_col11{\n",
       "            background-color:  #5875e1;\n",
       "            color:  #000000;\n",
       "        }#T_c878f30b_3c9f_11eb_8b6a_641c67a5d88erow8_col3{\n",
       "            background-color:  #dddcdc;\n",
       "            color:  #000000;\n",
       "        }#T_c878f30b_3c9f_11eb_8b6a_641c67a5d88erow8_col5{\n",
       "            background-color:  #adc9fd;\n",
       "            color:  #000000;\n",
       "        }#T_c878f30b_3c9f_11eb_8b6a_641c67a5d88erow8_col12{\n",
       "            background-color:  #bfd3f6;\n",
       "            color:  #000000;\n",
       "        }#T_c878f30b_3c9f_11eb_8b6a_641c67a5d88erow9_col0{\n",
       "            background-color:  #3e51c5;\n",
       "            color:  #f1f1f1;\n",
       "        }#T_c878f30b_3c9f_11eb_8b6a_641c67a5d88erow9_col3{\n",
       "            background-color:  #bad0f8;\n",
       "            color:  #000000;\n",
       "        }#T_c878f30b_3c9f_11eb_8b6a_641c67a5d88erow9_col4,#T_c878f30b_3c9f_11eb_8b6a_641c67a5d88erow10_col11{\n",
       "            background-color:  #88abfd;\n",
       "            color:  #000000;\n",
       "        }#T_c878f30b_3c9f_11eb_8b6a_641c67a5d88erow9_col5{\n",
       "            background-color:  #97b8ff;\n",
       "            color:  #000000;\n",
       "        }#T_c878f30b_3c9f_11eb_8b6a_641c67a5d88erow9_col8{\n",
       "            background-color:  #edd2c3;\n",
       "            color:  #000000;\n",
       "        }#T_c878f30b_3c9f_11eb_8b6a_641c67a5d88erow9_col12{\n",
       "            background-color:  #aec9fc;\n",
       "            color:  #000000;\n",
       "        }#T_c878f30b_3c9f_11eb_8b6a_641c67a5d88erow10_col0{\n",
       "            background-color:  #a9c6fd;\n",
       "            color:  #000000;\n",
       "        }#T_c878f30b_3c9f_11eb_8b6a_641c67a5d88erow10_col8{\n",
       "            background-color:  #86a9fc;\n",
       "            color:  #000000;\n",
       "        }#T_c878f30b_3c9f_11eb_8b6a_641c67a5d88erow10_col12,#T_c878f30b_3c9f_11eb_8b6a_641c67a5d88erow12_col10{\n",
       "            background-color:  #5d7ce6;\n",
       "            color:  #000000;\n",
       "        }#T_c878f30b_3c9f_11eb_8b6a_641c67a5d88erow11_col0{\n",
       "            background-color:  #f1cdba;\n",
       "            color:  #000000;\n",
       "        }#T_c878f30b_3c9f_11eb_8b6a_641c67a5d88erow11_col6{\n",
       "            background-color:  #ecd3c5;\n",
       "            color:  #000000;\n",
       "        }#T_c878f30b_3c9f_11eb_8b6a_641c67a5d88erow11_col7{\n",
       "            background-color:  #c1d4f4;\n",
       "            color:  #000000;\n",
       "        }#T_c878f30b_3c9f_11eb_8b6a_641c67a5d88erow11_col8{\n",
       "            background-color:  #7093f3;\n",
       "            color:  #000000;\n",
       "        }#T_c878f30b_3c9f_11eb_8b6a_641c67a5d88erow11_col10{\n",
       "            background-color:  #8badfd;\n",
       "            color:  #000000;\n",
       "        }#T_c878f30b_3c9f_11eb_8b6a_641c67a5d88erow12_col1{\n",
       "            background-color:  #4358cb;\n",
       "            color:  #f1f1f1;\n",
       "        }#T_c878f30b_3c9f_11eb_8b6a_641c67a5d88erow12_col3{\n",
       "            background-color:  #f7b99e;\n",
       "            color:  #000000;\n",
       "        }#T_c878f30b_3c9f_11eb_8b6a_641c67a5d88erow12_col4{\n",
       "            background-color:  #506bda;\n",
       "            color:  #000000;\n",
       "        }#T_c878f30b_3c9f_11eb_8b6a_641c67a5d88erow12_col6{\n",
       "            background-color:  #7597f6;\n",
       "            color:  #000000;\n",
       "        }#T_c878f30b_3c9f_11eb_8b6a_641c67a5d88erow12_col7{\n",
       "            background-color:  #7da0f9;\n",
       "            color:  #000000;\n",
       "        }#T_c878f30b_3c9f_11eb_8b6a_641c67a5d88erow12_col8{\n",
       "            background-color:  #d6dce4;\n",
       "            color:  #000000;\n",
       "        }#T_c878f30b_3c9f_11eb_8b6a_641c67a5d88erow12_col9{\n",
       "            background-color:  #c0d4f5;\n",
       "            color:  #000000;\n",
       "        }</style><table id=\"T_c878f30b_3c9f_11eb_8b6a_641c67a5d88e\" ><thead>    <tr>        <th class=\"blank level0\" ></th>        <th class=\"col_heading level0 col0\" >Category</th>        <th class=\"col_heading level0 col1\" >Age</th>        <th class=\"col_heading level0 col2\" >Sex</th>        <th class=\"col_heading level0 col3\" >ALB</th>        <th class=\"col_heading level0 col4\" >ALP</th>        <th class=\"col_heading level0 col5\" >ALT</th>        <th class=\"col_heading level0 col6\" >AST</th>        <th class=\"col_heading level0 col7\" >BIL</th>        <th class=\"col_heading level0 col8\" >CHE</th>        <th class=\"col_heading level0 col9\" >CHOL</th>        <th class=\"col_heading level0 col10\" >CREA</th>        <th class=\"col_heading level0 col11\" >GGT</th>        <th class=\"col_heading level0 col12\" >PROT</th>    </tr></thead><tbody>\n",
       "                <tr>\n",
       "                        <th id=\"T_c878f30b_3c9f_11eb_8b6a_641c67a5d88elevel0_row0\" class=\"row_heading level0 row0\" >Category</th>\n",
       "                        <td id=\"T_c878f30b_3c9f_11eb_8b6a_641c67a5d88erow0_col0\" class=\"data row0 col0\" >1.000000</td>\n",
       "                        <td id=\"T_c878f30b_3c9f_11eb_8b6a_641c67a5d88erow0_col1\" class=\"data row0 col1\" >0.065528</td>\n",
       "                        <td id=\"T_c878f30b_3c9f_11eb_8b6a_641c67a5d88erow0_col2\" class=\"data row0 col2\" >-0.084257</td>\n",
       "                        <td id=\"T_c878f30b_3c9f_11eb_8b6a_641c67a5d88erow0_col3\" class=\"data row0 col3\" >-0.278040</td>\n",
       "                        <td id=\"T_c878f30b_3c9f_11eb_8b6a_641c67a5d88erow0_col4\" class=\"data row0 col4\" >-0.006675</td>\n",
       "                        <td id=\"T_c878f30b_3c9f_11eb_8b6a_641c67a5d88erow0_col5\" class=\"data row0 col5\" >-0.032248</td>\n",
       "                        <td id=\"T_c878f30b_3c9f_11eb_8b6a_641c67a5d88erow0_col6\" class=\"data row0 col6\" >0.633795</td>\n",
       "                        <td id=\"T_c878f30b_3c9f_11eb_8b6a_641c67a5d88erow0_col7\" class=\"data row0 col7\" >0.402728</td>\n",
       "                        <td id=\"T_c878f30b_3c9f_11eb_8b6a_641c67a5d88erow0_col8\" class=\"data row0 col8\" >-0.236488</td>\n",
       "                        <td id=\"T_c878f30b_3c9f_11eb_8b6a_641c67a5d88erow0_col9\" class=\"data row0 col9\" >-0.259247</td>\n",
       "                        <td id=\"T_c878f30b_3c9f_11eb_8b6a_641c67a5d88erow0_col10\" class=\"data row0 col10\" >0.141782</td>\n",
       "                        <td id=\"T_c878f30b_3c9f_11eb_8b6a_641c67a5d88erow0_col11\" class=\"data row0 col11\" >0.479490</td>\n",
       "                        <td id=\"T_c878f30b_3c9f_11eb_8b6a_641c67a5d88erow0_col12\" class=\"data row0 col12\" >-0.118332</td>\n",
       "            </tr>\n",
       "            <tr>\n",
       "                        <th id=\"T_c878f30b_3c9f_11eb_8b6a_641c67a5d88elevel0_row1\" class=\"row_heading level0 row1\" >Age</th>\n",
       "                        <td id=\"T_c878f30b_3c9f_11eb_8b6a_641c67a5d88erow1_col0\" class=\"data row1 col0\" >0.065528</td>\n",
       "                        <td id=\"T_c878f30b_3c9f_11eb_8b6a_641c67a5d88erow1_col1\" class=\"data row1 col1\" >1.000000</td>\n",
       "                        <td id=\"T_c878f30b_3c9f_11eb_8b6a_641c67a5d88erow1_col2\" class=\"data row1 col2\" >0.015538</td>\n",
       "                        <td id=\"T_c878f30b_3c9f_11eb_8b6a_641c67a5d88erow1_col3\" class=\"data row1 col3\" >-0.191835</td>\n",
       "                        <td id=\"T_c878f30b_3c9f_11eb_8b6a_641c67a5d88erow1_col4\" class=\"data row1 col4\" >0.178287</td>\n",
       "                        <td id=\"T_c878f30b_3c9f_11eb_8b6a_641c67a5d88erow1_col5\" class=\"data row1 col5\" >-0.040269</td>\n",
       "                        <td id=\"T_c878f30b_3c9f_11eb_8b6a_641c67a5d88erow1_col6\" class=\"data row1 col6\" >0.072716</td>\n",
       "                        <td id=\"T_c878f30b_3c9f_11eb_8b6a_641c67a5d88erow1_col7\" class=\"data row1 col7\" >0.039994</td>\n",
       "                        <td id=\"T_c878f30b_3c9f_11eb_8b6a_641c67a5d88erow1_col8\" class=\"data row1 col8\" >-0.076790</td>\n",
       "                        <td id=\"T_c878f30b_3c9f_11eb_8b6a_641c67a5d88erow1_col9\" class=\"data row1 col9\" >0.123749</td>\n",
       "                        <td id=\"T_c878f30b_3c9f_11eb_8b6a_641c67a5d88erow1_col10\" class=\"data row1 col10\" >-0.025003</td>\n",
       "                        <td id=\"T_c878f30b_3c9f_11eb_8b6a_641c67a5d88erow1_col11\" class=\"data row1 col11\" >0.143826</td>\n",
       "                        <td id=\"T_c878f30b_3c9f_11eb_8b6a_641c67a5d88erow1_col12\" class=\"data row1 col12\" >-0.156598</td>\n",
       "            </tr>\n",
       "            <tr>\n",
       "                        <th id=\"T_c878f30b_3c9f_11eb_8b6a_641c67a5d88elevel0_row2\" class=\"row_heading level0 row2\" >Sex</th>\n",
       "                        <td id=\"T_c878f30b_3c9f_11eb_8b6a_641c67a5d88erow2_col0\" class=\"data row2 col0\" >-0.084257</td>\n",
       "                        <td id=\"T_c878f30b_3c9f_11eb_8b6a_641c67a5d88erow2_col1\" class=\"data row2 col1\" >0.015538</td>\n",
       "                        <td id=\"T_c878f30b_3c9f_11eb_8b6a_641c67a5d88erow2_col2\" class=\"data row2 col2\" >1.000000</td>\n",
       "                        <td id=\"T_c878f30b_3c9f_11eb_8b6a_641c67a5d88erow2_col3\" class=\"data row2 col3\" >-0.150752</td>\n",
       "                        <td id=\"T_c878f30b_3c9f_11eb_8b6a_641c67a5d88erow2_col4\" class=\"data row2 col4\" >0.008205</td>\n",
       "                        <td id=\"T_c878f30b_3c9f_11eb_8b6a_641c67a5d88erow2_col5\" class=\"data row2 col5\" >-0.176780</td>\n",
       "                        <td id=\"T_c878f30b_3c9f_11eb_8b6a_641c67a5d88erow2_col6\" class=\"data row2 col6\" >-0.129788</td>\n",
       "                        <td id=\"T_c878f30b_3c9f_11eb_8b6a_641c67a5d88erow2_col7\" class=\"data row2 col7\" >-0.107692</td>\n",
       "                        <td id=\"T_c878f30b_3c9f_11eb_8b6a_641c67a5d88erow2_col8\" class=\"data row2 col8\" >-0.182332</td>\n",
       "                        <td id=\"T_c878f30b_3c9f_11eb_8b6a_641c67a5d88erow2_col9\" class=\"data row2 col9\" >0.029702</td>\n",
       "                        <td id=\"T_c878f30b_3c9f_11eb_8b6a_641c67a5d88erow2_col10\" class=\"data row2 col10\" >-0.157884</td>\n",
       "                        <td id=\"T_c878f30b_3c9f_11eb_8b6a_641c67a5d88erow2_col11\" class=\"data row2 col11\" >-0.127585</td>\n",
       "                        <td id=\"T_c878f30b_3c9f_11eb_8b6a_641c67a5d88erow2_col12\" class=\"data row2 col12\" >-0.040953</td>\n",
       "            </tr>\n",
       "            <tr>\n",
       "                        <th id=\"T_c878f30b_3c9f_11eb_8b6a_641c67a5d88elevel0_row3\" class=\"row_heading level0 row3\" >ALB</th>\n",
       "                        <td id=\"T_c878f30b_3c9f_11eb_8b6a_641c67a5d88erow3_col0\" class=\"data row3 col0\" >-0.278040</td>\n",
       "                        <td id=\"T_c878f30b_3c9f_11eb_8b6a_641c67a5d88erow3_col1\" class=\"data row3 col1\" >-0.191835</td>\n",
       "                        <td id=\"T_c878f30b_3c9f_11eb_8b6a_641c67a5d88erow3_col2\" class=\"data row3 col2\" >-0.150752</td>\n",
       "                        <td id=\"T_c878f30b_3c9f_11eb_8b6a_641c67a5d88erow3_col3\" class=\"data row3 col3\" >1.000000</td>\n",
       "                        <td id=\"T_c878f30b_3c9f_11eb_8b6a_641c67a5d88erow3_col4\" class=\"data row3 col4\" >-0.146505</td>\n",
       "                        <td id=\"T_c878f30b_3c9f_11eb_8b6a_641c67a5d88erow3_col5\" class=\"data row3 col5\" >0.039314</td>\n",
       "                        <td id=\"T_c878f30b_3c9f_11eb_8b6a_641c67a5d88erow3_col6\" class=\"data row3 col6\" >-0.177578</td>\n",
       "                        <td id=\"T_c878f30b_3c9f_11eb_8b6a_641c67a5d88erow3_col7\" class=\"data row3 col7\" >-0.169770</td>\n",
       "                        <td id=\"T_c878f30b_3c9f_11eb_8b6a_641c67a5d88erow3_col8\" class=\"data row3 col8\" >0.361318</td>\n",
       "                        <td id=\"T_c878f30b_3c9f_11eb_8b6a_641c67a5d88erow3_col9\" class=\"data row3 col9\" >0.210843</td>\n",
       "                        <td id=\"T_c878f30b_3c9f_11eb_8b6a_641c67a5d88erow3_col10\" class=\"data row3 col10\" >0.001359</td>\n",
       "                        <td id=\"T_c878f30b_3c9f_11eb_8b6a_641c67a5d88erow3_col11\" class=\"data row3 col11\" >-0.147893</td>\n",
       "                        <td id=\"T_c878f30b_3c9f_11eb_8b6a_641c67a5d88erow3_col12\" class=\"data row3 col12\" >0.567577</td>\n",
       "            </tr>\n",
       "            <tr>\n",
       "                        <th id=\"T_c878f30b_3c9f_11eb_8b6a_641c67a5d88elevel0_row4\" class=\"row_heading level0 row4\" >ALP</th>\n",
       "                        <td id=\"T_c878f30b_3c9f_11eb_8b6a_641c67a5d88erow4_col0\" class=\"data row4 col0\" >-0.006675</td>\n",
       "                        <td id=\"T_c878f30b_3c9f_11eb_8b6a_641c67a5d88erow4_col1\" class=\"data row4 col1\" >0.178287</td>\n",
       "                        <td id=\"T_c878f30b_3c9f_11eb_8b6a_641c67a5d88erow4_col2\" class=\"data row4 col2\" >0.008205</td>\n",
       "                        <td id=\"T_c878f30b_3c9f_11eb_8b6a_641c67a5d88erow4_col3\" class=\"data row4 col3\" >-0.146505</td>\n",
       "                        <td id=\"T_c878f30b_3c9f_11eb_8b6a_641c67a5d88erow4_col4\" class=\"data row4 col4\" >1.000000</td>\n",
       "                        <td id=\"T_c878f30b_3c9f_11eb_8b6a_641c67a5d88erow4_col5\" class=\"data row4 col5\" >0.221691</td>\n",
       "                        <td id=\"T_c878f30b_3c9f_11eb_8b6a_641c67a5d88erow4_col6\" class=\"data row4 col6\" >0.067028</td>\n",
       "                        <td id=\"T_c878f30b_3c9f_11eb_8b6a_641c67a5d88erow4_col7\" class=\"data row4 col7\" >0.058538</td>\n",
       "                        <td id=\"T_c878f30b_3c9f_11eb_8b6a_641c67a5d88erow4_col8\" class=\"data row4 col8\" >0.028980</td>\n",
       "                        <td id=\"T_c878f30b_3c9f_11eb_8b6a_641c67a5d88erow4_col9\" class=\"data row4 col9\" >0.125429</td>\n",
       "                        <td id=\"T_c878f30b_3c9f_11eb_8b6a_641c67a5d88erow4_col10\" class=\"data row4 col10\" >0.153939</td>\n",
       "                        <td id=\"T_c878f30b_3c9f_11eb_8b6a_641c67a5d88erow4_col11\" class=\"data row4 col11\" >0.461444</td>\n",
       "                        <td id=\"T_c878f30b_3c9f_11eb_8b6a_641c67a5d88erow4_col12\" class=\"data row4 col12\" >-0.061643</td>\n",
       "            </tr>\n",
       "            <tr>\n",
       "                        <th id=\"T_c878f30b_3c9f_11eb_8b6a_641c67a5d88elevel0_row5\" class=\"row_heading level0 row5\" >ALT</th>\n",
       "                        <td id=\"T_c878f30b_3c9f_11eb_8b6a_641c67a5d88erow5_col0\" class=\"data row5 col0\" >-0.032248</td>\n",
       "                        <td id=\"T_c878f30b_3c9f_11eb_8b6a_641c67a5d88erow5_col1\" class=\"data row5 col1\" >-0.040269</td>\n",
       "                        <td id=\"T_c878f30b_3c9f_11eb_8b6a_641c67a5d88erow5_col2\" class=\"data row5 col2\" >-0.176780</td>\n",
       "                        <td id=\"T_c878f30b_3c9f_11eb_8b6a_641c67a5d88erow5_col3\" class=\"data row5 col3\" >0.039314</td>\n",
       "                        <td id=\"T_c878f30b_3c9f_11eb_8b6a_641c67a5d88erow5_col4\" class=\"data row5 col4\" >0.221691</td>\n",
       "                        <td id=\"T_c878f30b_3c9f_11eb_8b6a_641c67a5d88erow5_col5\" class=\"data row5 col5\" >1.000000</td>\n",
       "                        <td id=\"T_c878f30b_3c9f_11eb_8b6a_641c67a5d88erow5_col6\" class=\"data row5 col6\" >0.198659</td>\n",
       "                        <td id=\"T_c878f30b_3c9f_11eb_8b6a_641c67a5d88erow5_col7\" class=\"data row5 col7\" >-0.106722</td>\n",
       "                        <td id=\"T_c878f30b_3c9f_11eb_8b6a_641c67a5d88erow5_col8\" class=\"data row5 col8\" >0.224081</td>\n",
       "                        <td id=\"T_c878f30b_3c9f_11eb_8b6a_641c67a5d88erow5_col9\" class=\"data row5 col9\" >0.149800</td>\n",
       "                        <td id=\"T_c878f30b_3c9f_11eb_8b6a_641c67a5d88erow5_col10\" class=\"data row5 col10\" >-0.036083</td>\n",
       "                        <td id=\"T_c878f30b_3c9f_11eb_8b6a_641c67a5d88erow5_col11\" class=\"data row5 col11\" >0.219781</td>\n",
       "                        <td id=\"T_c878f30b_3c9f_11eb_8b6a_641c67a5d88erow5_col12\" class=\"data row5 col12\" >0.017229</td>\n",
       "            </tr>\n",
       "            <tr>\n",
       "                        <th id=\"T_c878f30b_3c9f_11eb_8b6a_641c67a5d88elevel0_row6\" class=\"row_heading level0 row6\" >AST</th>\n",
       "                        <td id=\"T_c878f30b_3c9f_11eb_8b6a_641c67a5d88erow6_col0\" class=\"data row6 col0\" >0.633795</td>\n",
       "                        <td id=\"T_c878f30b_3c9f_11eb_8b6a_641c67a5d88erow6_col1\" class=\"data row6 col1\" >0.072716</td>\n",
       "                        <td id=\"T_c878f30b_3c9f_11eb_8b6a_641c67a5d88erow6_col2\" class=\"data row6 col2\" >-0.129788</td>\n",
       "                        <td id=\"T_c878f30b_3c9f_11eb_8b6a_641c67a5d88erow6_col3\" class=\"data row6 col3\" >-0.177578</td>\n",
       "                        <td id=\"T_c878f30b_3c9f_11eb_8b6a_641c67a5d88erow6_col4\" class=\"data row6 col4\" >0.067028</td>\n",
       "                        <td id=\"T_c878f30b_3c9f_11eb_8b6a_641c67a5d88erow6_col5\" class=\"data row6 col5\" >0.198659</td>\n",
       "                        <td id=\"T_c878f30b_3c9f_11eb_8b6a_641c67a5d88erow6_col6\" class=\"data row6 col6\" >1.000000</td>\n",
       "                        <td id=\"T_c878f30b_3c9f_11eb_8b6a_641c67a5d88erow6_col7\" class=\"data row6 col7\" >0.309574</td>\n",
       "                        <td id=\"T_c878f30b_3c9f_11eb_8b6a_641c67a5d88erow6_col8\" class=\"data row6 col8\" >-0.197226</td>\n",
       "                        <td id=\"T_c878f30b_3c9f_11eb_8b6a_641c67a5d88erow6_col9\" class=\"data row6 col9\" >-0.201182</td>\n",
       "                        <td id=\"T_c878f30b_3c9f_11eb_8b6a_641c67a5d88erow6_col10\" class=\"data row6 col10\" >-0.017945</td>\n",
       "                        <td id=\"T_c878f30b_3c9f_11eb_8b6a_641c67a5d88erow6_col11\" class=\"data row6 col11\" >0.477735</td>\n",
       "                        <td id=\"T_c878f30b_3c9f_11eb_8b6a_641c67a5d88erow6_col12\" class=\"data row6 col12\" >0.017421</td>\n",
       "            </tr>\n",
       "            <tr>\n",
       "                        <th id=\"T_c878f30b_3c9f_11eb_8b6a_641c67a5d88elevel0_row7\" class=\"row_heading level0 row7\" >BIL</th>\n",
       "                        <td id=\"T_c878f30b_3c9f_11eb_8b6a_641c67a5d88erow7_col0\" class=\"data row7 col0\" >0.402728</td>\n",
       "                        <td id=\"T_c878f30b_3c9f_11eb_8b6a_641c67a5d88erow7_col1\" class=\"data row7 col1\" >0.039994</td>\n",
       "                        <td id=\"T_c878f30b_3c9f_11eb_8b6a_641c67a5d88erow7_col2\" class=\"data row7 col2\" >-0.107692</td>\n",
       "                        <td id=\"T_c878f30b_3c9f_11eb_8b6a_641c67a5d88erow7_col3\" class=\"data row7 col3\" >-0.169770</td>\n",
       "                        <td id=\"T_c878f30b_3c9f_11eb_8b6a_641c67a5d88erow7_col4\" class=\"data row7 col4\" >0.058538</td>\n",
       "                        <td id=\"T_c878f30b_3c9f_11eb_8b6a_641c67a5d88erow7_col5\" class=\"data row7 col5\" >-0.106722</td>\n",
       "                        <td id=\"T_c878f30b_3c9f_11eb_8b6a_641c67a5d88erow7_col6\" class=\"data row7 col6\" >0.309574</td>\n",
       "                        <td id=\"T_c878f30b_3c9f_11eb_8b6a_641c67a5d88erow7_col7\" class=\"data row7 col7\" >1.000000</td>\n",
       "                        <td id=\"T_c878f30b_3c9f_11eb_8b6a_641c67a5d88erow7_col8\" class=\"data row7 col8\" >-0.320837</td>\n",
       "                        <td id=\"T_c878f30b_3c9f_11eb_8b6a_641c67a5d88erow7_col9\" class=\"data row7 col9\" >-0.181728</td>\n",
       "                        <td id=\"T_c878f30b_3c9f_11eb_8b6a_641c67a5d88erow7_col10\" class=\"data row7 col10\" >0.019938</td>\n",
       "                        <td id=\"T_c878f30b_3c9f_11eb_8b6a_641c67a5d88erow7_col11\" class=\"data row7 col11\" >0.210674</td>\n",
       "                        <td id=\"T_c878f30b_3c9f_11eb_8b6a_641c67a5d88erow7_col12\" class=\"data row7 col12\" >-0.051800</td>\n",
       "            </tr>\n",
       "            <tr>\n",
       "                        <th id=\"T_c878f30b_3c9f_11eb_8b6a_641c67a5d88elevel0_row8\" class=\"row_heading level0 row8\" >CHE</th>\n",
       "                        <td id=\"T_c878f30b_3c9f_11eb_8b6a_641c67a5d88erow8_col0\" class=\"data row8 col0\" >-0.236488</td>\n",
       "                        <td id=\"T_c878f30b_3c9f_11eb_8b6a_641c67a5d88erow8_col1\" class=\"data row8 col1\" >-0.076790</td>\n",
       "                        <td id=\"T_c878f30b_3c9f_11eb_8b6a_641c67a5d88erow8_col2\" class=\"data row8 col2\" >-0.182332</td>\n",
       "                        <td id=\"T_c878f30b_3c9f_11eb_8b6a_641c67a5d88erow8_col3\" class=\"data row8 col3\" >0.361318</td>\n",
       "                        <td id=\"T_c878f30b_3c9f_11eb_8b6a_641c67a5d88erow8_col4\" class=\"data row8 col4\" >0.028980</td>\n",
       "                        <td id=\"T_c878f30b_3c9f_11eb_8b6a_641c67a5d88erow8_col5\" class=\"data row8 col5\" >0.224081</td>\n",
       "                        <td id=\"T_c878f30b_3c9f_11eb_8b6a_641c67a5d88erow8_col6\" class=\"data row8 col6\" >-0.197226</td>\n",
       "                        <td id=\"T_c878f30b_3c9f_11eb_8b6a_641c67a5d88erow8_col7\" class=\"data row8 col7\" >-0.320837</td>\n",
       "                        <td id=\"T_c878f30b_3c9f_11eb_8b6a_641c67a5d88erow8_col8\" class=\"data row8 col8\" >1.000000</td>\n",
       "                        <td id=\"T_c878f30b_3c9f_11eb_8b6a_641c67a5d88erow8_col9\" class=\"data row8 col9\" >0.428344</td>\n",
       "                        <td id=\"T_c878f30b_3c9f_11eb_8b6a_641c67a5d88erow8_col10\" class=\"data row8 col10\" >-0.012195</td>\n",
       "                        <td id=\"T_c878f30b_3c9f_11eb_8b6a_641c67a5d88erow8_col11\" class=\"data row8 col11\" >-0.096053</td>\n",
       "                        <td id=\"T_c878f30b_3c9f_11eb_8b6a_641c67a5d88erow8_col12\" class=\"data row8 col12\" >0.303702</td>\n",
       "            </tr>\n",
       "            <tr>\n",
       "                        <th id=\"T_c878f30b_3c9f_11eb_8b6a_641c67a5d88elevel0_row9\" class=\"row_heading level0 row9\" >CHOL</th>\n",
       "                        <td id=\"T_c878f30b_3c9f_11eb_8b6a_641c67a5d88erow9_col0\" class=\"data row9 col0\" >-0.259247</td>\n",
       "                        <td id=\"T_c878f30b_3c9f_11eb_8b6a_641c67a5d88erow9_col1\" class=\"data row9 col1\" >0.123749</td>\n",
       "                        <td id=\"T_c878f30b_3c9f_11eb_8b6a_641c67a5d88erow9_col2\" class=\"data row9 col2\" >0.029702</td>\n",
       "                        <td id=\"T_c878f30b_3c9f_11eb_8b6a_641c67a5d88erow9_col3\" class=\"data row9 col3\" >0.210843</td>\n",
       "                        <td id=\"T_c878f30b_3c9f_11eb_8b6a_641c67a5d88erow9_col4\" class=\"data row9 col4\" >0.125429</td>\n",
       "                        <td id=\"T_c878f30b_3c9f_11eb_8b6a_641c67a5d88erow9_col5\" class=\"data row9 col5\" >0.149800</td>\n",
       "                        <td id=\"T_c878f30b_3c9f_11eb_8b6a_641c67a5d88erow9_col6\" class=\"data row9 col6\" >-0.201182</td>\n",
       "                        <td id=\"T_c878f30b_3c9f_11eb_8b6a_641c67a5d88erow9_col7\" class=\"data row9 col7\" >-0.181728</td>\n",
       "                        <td id=\"T_c878f30b_3c9f_11eb_8b6a_641c67a5d88erow9_col8\" class=\"data row9 col8\" >0.428344</td>\n",
       "                        <td id=\"T_c878f30b_3c9f_11eb_8b6a_641c67a5d88erow9_col9\" class=\"data row9 col9\" >1.000000</td>\n",
       "                        <td id=\"T_c878f30b_3c9f_11eb_8b6a_641c67a5d88erow9_col10\" class=\"data row9 col10\" >-0.051519</td>\n",
       "                        <td id=\"T_c878f30b_3c9f_11eb_8b6a_641c67a5d88erow9_col11\" class=\"data row9 col11\" >0.008494</td>\n",
       "                        <td id=\"T_c878f30b_3c9f_11eb_8b6a_641c67a5d88erow9_col12\" class=\"data row9 col12\" >0.242899</td>\n",
       "            </tr>\n",
       "            <tr>\n",
       "                        <th id=\"T_c878f30b_3c9f_11eb_8b6a_641c67a5d88elevel0_row10\" class=\"row_heading level0 row10\" >CREA</th>\n",
       "                        <td id=\"T_c878f30b_3c9f_11eb_8b6a_641c67a5d88erow10_col0\" class=\"data row10 col0\" >0.141782</td>\n",
       "                        <td id=\"T_c878f30b_3c9f_11eb_8b6a_641c67a5d88erow10_col1\" class=\"data row10 col1\" >-0.025003</td>\n",
       "                        <td id=\"T_c878f30b_3c9f_11eb_8b6a_641c67a5d88erow10_col2\" class=\"data row10 col2\" >-0.157884</td>\n",
       "                        <td id=\"T_c878f30b_3c9f_11eb_8b6a_641c67a5d88erow10_col3\" class=\"data row10 col3\" >0.001359</td>\n",
       "                        <td id=\"T_c878f30b_3c9f_11eb_8b6a_641c67a5d88erow10_col4\" class=\"data row10 col4\" >0.153939</td>\n",
       "                        <td id=\"T_c878f30b_3c9f_11eb_8b6a_641c67a5d88erow10_col5\" class=\"data row10 col5\" >-0.036083</td>\n",
       "                        <td id=\"T_c878f30b_3c9f_11eb_8b6a_641c67a5d88erow10_col6\" class=\"data row10 col6\" >-0.017945</td>\n",
       "                        <td id=\"T_c878f30b_3c9f_11eb_8b6a_641c67a5d88erow10_col7\" class=\"data row10 col7\" >0.019938</td>\n",
       "                        <td id=\"T_c878f30b_3c9f_11eb_8b6a_641c67a5d88erow10_col8\" class=\"data row10 col8\" >-0.012195</td>\n",
       "                        <td id=\"T_c878f30b_3c9f_11eb_8b6a_641c67a5d88erow10_col9\" class=\"data row10 col9\" >-0.051519</td>\n",
       "                        <td id=\"T_c878f30b_3c9f_11eb_8b6a_641c67a5d88erow10_col10\" class=\"data row10 col10\" >1.000000</td>\n",
       "                        <td id=\"T_c878f30b_3c9f_11eb_8b6a_641c67a5d88erow10_col11\" class=\"data row10 col11\" >0.125384</td>\n",
       "                        <td id=\"T_c878f30b_3c9f_11eb_8b6a_641c67a5d88erow10_col12\" class=\"data row10 col12\" >-0.029831</td>\n",
       "            </tr>\n",
       "            <tr>\n",
       "                        <th id=\"T_c878f30b_3c9f_11eb_8b6a_641c67a5d88elevel0_row11\" class=\"row_heading level0 row11\" >GGT</th>\n",
       "                        <td id=\"T_c878f30b_3c9f_11eb_8b6a_641c67a5d88erow11_col0\" class=\"data row11 col0\" >0.479490</td>\n",
       "                        <td id=\"T_c878f30b_3c9f_11eb_8b6a_641c67a5d88erow11_col1\" class=\"data row11 col1\" >0.143826</td>\n",
       "                        <td id=\"T_c878f30b_3c9f_11eb_8b6a_641c67a5d88erow11_col2\" class=\"data row11 col2\" >-0.127585</td>\n",
       "                        <td id=\"T_c878f30b_3c9f_11eb_8b6a_641c67a5d88erow11_col3\" class=\"data row11 col3\" >-0.147893</td>\n",
       "                        <td id=\"T_c878f30b_3c9f_11eb_8b6a_641c67a5d88erow11_col4\" class=\"data row11 col4\" >0.461444</td>\n",
       "                        <td id=\"T_c878f30b_3c9f_11eb_8b6a_641c67a5d88erow11_col5\" class=\"data row11 col5\" >0.219781</td>\n",
       "                        <td id=\"T_c878f30b_3c9f_11eb_8b6a_641c67a5d88erow11_col6\" class=\"data row11 col6\" >0.477735</td>\n",
       "                        <td id=\"T_c878f30b_3c9f_11eb_8b6a_641c67a5d88erow11_col7\" class=\"data row11 col7\" >0.210674</td>\n",
       "                        <td id=\"T_c878f30b_3c9f_11eb_8b6a_641c67a5d88erow11_col8\" class=\"data row11 col8\" >-0.096053</td>\n",
       "                        <td id=\"T_c878f30b_3c9f_11eb_8b6a_641c67a5d88erow11_col9\" class=\"data row11 col9\" >0.008494</td>\n",
       "                        <td id=\"T_c878f30b_3c9f_11eb_8b6a_641c67a5d88erow11_col10\" class=\"data row11 col10\" >0.125384</td>\n",
       "                        <td id=\"T_c878f30b_3c9f_11eb_8b6a_641c67a5d88erow11_col11\" class=\"data row11 col11\" >1.000000</td>\n",
       "                        <td id=\"T_c878f30b_3c9f_11eb_8b6a_641c67a5d88erow11_col12\" class=\"data row11 col12\" >-0.036036</td>\n",
       "            </tr>\n",
       "            <tr>\n",
       "                        <th id=\"T_c878f30b_3c9f_11eb_8b6a_641c67a5d88elevel0_row12\" class=\"row_heading level0 row12\" >PROT</th>\n",
       "                        <td id=\"T_c878f30b_3c9f_11eb_8b6a_641c67a5d88erow12_col0\" class=\"data row12 col0\" >-0.118332</td>\n",
       "                        <td id=\"T_c878f30b_3c9f_11eb_8b6a_641c67a5d88erow12_col1\" class=\"data row12 col1\" >-0.156598</td>\n",
       "                        <td id=\"T_c878f30b_3c9f_11eb_8b6a_641c67a5d88erow12_col2\" class=\"data row12 col2\" >-0.040953</td>\n",
       "                        <td id=\"T_c878f30b_3c9f_11eb_8b6a_641c67a5d88erow12_col3\" class=\"data row12 col3\" >0.567577</td>\n",
       "                        <td id=\"T_c878f30b_3c9f_11eb_8b6a_641c67a5d88erow12_col4\" class=\"data row12 col4\" >-0.061643</td>\n",
       "                        <td id=\"T_c878f30b_3c9f_11eb_8b6a_641c67a5d88erow12_col5\" class=\"data row12 col5\" >0.017229</td>\n",
       "                        <td id=\"T_c878f30b_3c9f_11eb_8b6a_641c67a5d88erow12_col6\" class=\"data row12 col6\" >0.017421</td>\n",
       "                        <td id=\"T_c878f30b_3c9f_11eb_8b6a_641c67a5d88erow12_col7\" class=\"data row12 col7\" >-0.051800</td>\n",
       "                        <td id=\"T_c878f30b_3c9f_11eb_8b6a_641c67a5d88erow12_col8\" class=\"data row12 col8\" >0.303702</td>\n",
       "                        <td id=\"T_c878f30b_3c9f_11eb_8b6a_641c67a5d88erow12_col9\" class=\"data row12 col9\" >0.242899</td>\n",
       "                        <td id=\"T_c878f30b_3c9f_11eb_8b6a_641c67a5d88erow12_col10\" class=\"data row12 col10\" >-0.029831</td>\n",
       "                        <td id=\"T_c878f30b_3c9f_11eb_8b6a_641c67a5d88erow12_col11\" class=\"data row12 col11\" >-0.036036</td>\n",
       "                        <td id=\"T_c878f30b_3c9f_11eb_8b6a_641c67a5d88erow12_col12\" class=\"data row12 col12\" >1.000000</td>\n",
       "            </tr>\n",
       "    </tbody></table>"
      ],
      "text/plain": [
       "<pandas.io.formats.style.Styler at 0x23e62651fd0>"
      ]
     },
     "execution_count": 23,
     "metadata": {},
     "output_type": "execute_result"
    }
   ],
   "source": [
    "correlation_col = ['Category', 'Age', 'Sex', 'ALB', 'ALP', 'ALT', 'AST', 'BIL', 'CHE', 'CHOL', 'CREA', 'GGT', 'PROT']\n",
    "df = pd.DataFrame(train_df[correlation_col])\n",
    "corr = df.corr()\n",
    "corr.style.background_gradient(cmap='coolwarm')"
   ]
  },
  {
   "cell_type": "markdown",
   "metadata": {},
   "source": [
    "# Seleção dos Dados\n",
    "Após realizar a analise dos dados, percebe-se a discrepancia entre doadores e não doadores, como também a presença de outliers em algumas colunas. Desse modo, foi realizada uma normalização dos dados para posterior previsão das demais colunas. "
   ]
  },
  {
   "cell_type": "code",
   "execution_count": 24,
   "metadata": {},
   "outputs": [],
   "source": [
    "cols = ['Category', 'Age', 'Sex', 'ALB', 'ALP', 'ALT', 'AST', 'BIL', 'CHE', 'CHOL', 'CREA', 'GGT', 'PROT']\n",
    "        \n",
    "bf_X = np.array(train_df[cols])\n",
    "min_max_scaler = preprocessing.MinMaxScaler()\n",
    "X = min_max_scaler.fit_transform(bf_X)\n",
    "\n",
    "y = train_df.Category"
   ]
  },
  {
   "cell_type": "markdown",
   "metadata": {},
   "source": [
    "# Treinamento e Teste\n",
    "Agora é preciso fazer o treinamento do algoritmo, o treinamento basicamente vai passar por todas as entradas e achar um padrão que melhor descreve os dados e assim gerar um modelo capaz de prever a saída para novos dados. Sendo dividido em 70% para treino e 30% para teste. "
   ]
  },
  {
   "cell_type": "code",
   "execution_count": 25,
   "metadata": {},
   "outputs": [],
   "source": [
    "train_features = ['Age', 'Sex', 'ALB', 'ALP', 'ALT', 'AST', 'BIL', 'CHE', 'CHOL', 'CREA', 'GGT', 'PROT']\n",
    "train_target = ['Category']\n",
    "\n",
    "train_df.drop_duplicates(subset=train_features, keep=False, inplace=True)\n",
    "\n",
    "train_df = pd.get_dummies(train_df)\n",
    "\n",
    "x_train, x_test, y_train, y_test = train_test_split(train_df[train_features], train_df[train_target], random_state = 1, stratify=y)"
   ]
  },
  {
   "cell_type": "markdown",
   "metadata": {},
   "source": [
    "# Algoritmos Supervisionados\n",
    "Os algoritmos escolhidos para a predição do resultado foram o Decison Tree, Random Forest e o SVM.\n",
    "\n",
    "O Decison Tree, apesar de ser um algoritmo simples funciona bem para este tipo de problema. Onde os “nós” da árvore e em cada um deles o resultado da decisão será seguir por um caminho, ou por outro. Como este seria uma variação mais simples do random forest, achei interressante ver como se comportaria.\n",
    "\n",
    "O Random Forest, é um tipo de ensemble learning, método que gera muitos classificadores e combina o seu resultado. Ele gera vários decision trees, cada um com suas particularidades e combinada o resultado da classificação de todos eles. Utiliza um meta-algoritmo de bagging, que reduz a variância e overfitting, com métodos de aproximação da média. \n",
    "\n",
    "A escolha da SVM foi por seu caráter linear, sendo considerado o melhor algoritmo para a classificação entre duas classes."
   ]
  },
  {
   "cell_type": "code",
   "execution_count": 26,
   "metadata": {},
   "outputs": [
    {
     "name": "stdout",
     "output_type": "stream",
     "text": [
      "Accuracy: 95.27 %\n",
      "Sensibility score: 0.91\n",
      "Specificity score: 0.62\n",
      "Confusion matrix:\n",
      " [[131   1]\n",
      " [  6  10]]\n"
     ]
    }
   ],
   "source": [
    "classifier_dt = DecisionTreeClassifier(random_state=1986, criterion='gini', max_depth=3).fit(x_train, y_train)\n",
    "\n",
    "predict_dt = classifier_dt.predict(x_test)\n",
    "\n",
    "print(\"Accuracy:\", round(classifier_dt.score(x_test, y_test)*100, 2),'%')\n",
    "\n",
    "print(\"Sensibility score:\", round(metrics.precision_score(y_test, predict_dt), 2))\n",
    "print(\"Specificity score:\", round(metrics.recall_score(y_test, predict_dt), 2))\n",
    "\n",
    "cm_decision = metrics.confusion_matrix(y_test, predict_dt)\n",
    "print(\"Confusion matrix:\\n\", cm_decision)"
   ]
  },
  {
   "cell_type": "code",
   "execution_count": 27,
   "metadata": {},
   "outputs": [
    {
     "name": "stdout",
     "output_type": "stream",
     "text": [
      "Accuracy: 95.95 %\n",
      "Sensibility score: 1.0\n",
      "Specificity score: 0.62\n",
      "Confusion matrix:\n",
      " [[132   0]\n",
      " [  6  10]]\n"
     ]
    }
   ],
   "source": [
    "classifier_rf = RandomForestClassifier(n_jobs=1, random_state=5, n_estimators=10).fit(x_train, y_train)\n",
    "\n",
    "predict_rf = classifier_rf.predict(x_test)\n",
    "\n",
    "print(\"Accuracy:\", round(classifier_rf.score(x_test, y_test)*100, 2),'%')\n",
    "\n",
    "print(\"Sensibility score:\", round(metrics.precision_score(y_test, predict_rf), 2))\n",
    "print(\"Specificity score:\", round(metrics.recall_score(y_test, predict_rf), 2))\n",
    "\n",
    "cm_random = metrics.confusion_matrix(y_test, predict_rf)\n",
    "print(\"Confusion matrix:\\n\", cm_random)"
   ]
  },
  {
   "cell_type": "code",
   "execution_count": 28,
   "metadata": {},
   "outputs": [
    {
     "name": "stdout",
     "output_type": "stream",
     "text": [
      "Accuracy: 96.62 %\n",
      "Sensibility score: 1.0\n",
      "Specificity score: 0.69\n",
      "Confusion matrix:\n",
      " [[132   0]\n",
      " [  5  11]]\n"
     ]
    }
   ],
   "source": [
    "classifier_svm = svm.SVC(kernel='linear', C=10).fit(x_train, y_train)\n",
    "\n",
    "predict_svm = classifier_svm.predict(x_test)\n",
    "\n",
    "print(\"Accuracy:\", round(classifier_svm.score(x_test, y_test)*100, 2),'%')\n",
    "\n",
    "print(\"Sensibility score:\", round(metrics.precision_score(y_test, predict_svm), 2))\n",
    "print(\"Specificity score:\", round(metrics.recall_score(y_test, predict_svm), 2))\n",
    "\n",
    "svm_decision = metrics.confusion_matrix(y_test, predict_svm)\n",
    "print(\"Confusion matrix:\\n\", svm_decision)"
   ]
  },
  {
   "cell_type": "markdown",
   "metadata": {},
   "source": [
    "A acurácia mede a proximidade da medida para um determinado valor;\n",
    "\n",
    "Especificidade mede a porção de verdadeiros negativos em relação ao total de negativos. \n",
    "\n",
    "Sensibilidade mede a porção de verdadeiros positivos em relação ao total de positivos. \n",
    "\n",
    "A matriz de confusão é dividida da seguinte forma, temos que Matriz[0][0] = Verdadeiro negativo, Matriz[0][1] = Falso positivo\n",
    "matriz[1][0] = Falso negativo, matriz[1][1] = Verdadeiro positivo."
   ]
  },
  {
   "cell_type": "markdown",
   "metadata": {},
   "source": [
    "# Relatório de Classificação\n",
    "Com auxilio da função classification_report é possivel analisar melhor o recall (que vai nos mostrar com maior clareza que a base está enviesada), e outras funções como a f1-score e precision."
   ]
  },
  {
   "cell_type": "code",
   "execution_count": 29,
   "metadata": {},
   "outputs": [
    {
     "name": "stdout",
     "output_type": "stream",
     "text": [
      "              precision    recall  f1-score   support\n",
      "\n",
      "           0       0.96      0.99      0.97       132\n",
      "           1       0.91      0.62      0.74        16\n",
      "\n",
      "    accuracy                           0.95       148\n",
      "   macro avg       0.93      0.81      0.86       148\n",
      "weighted avg       0.95      0.95      0.95       148\n",
      "\n",
      "              precision    recall  f1-score   support\n",
      "\n",
      "           0       0.96      1.00      0.98       132\n",
      "           1       1.00      0.62      0.77        16\n",
      "\n",
      "    accuracy                           0.96       148\n",
      "   macro avg       0.98      0.81      0.87       148\n",
      "weighted avg       0.96      0.96      0.96       148\n",
      "\n",
      "              precision    recall  f1-score   support\n",
      "\n",
      "           0       0.96      1.00      0.98       132\n",
      "           1       1.00      0.69      0.81        16\n",
      "\n",
      "    accuracy                           0.97       148\n",
      "   macro avg       0.98      0.84      0.90       148\n",
      "weighted avg       0.97      0.97      0.96       148\n",
      "\n"
     ]
    }
   ],
   "source": [
    "print(metrics.classification_report(y_test, predict_dt))\n",
    "print(metrics.classification_report(y_test, predict_rf))\n",
    "print(metrics.classification_report(y_test, predict_svm))\n"
   ]
  },
  {
   "cell_type": "markdown",
   "metadata": {},
   "source": [
    "Apesar da acurácia alta e mesmo sendo uma das maneiras de verificar a qualidade do modelo. Por a base está desbalanceada ela não é a melhor métrica de avaliação do modelo.\n",
    "\n",
    "Note que o recall (número de acertos) para a classe 0 é muito alta em todos os algoritmos, por outro lado é menor para a classe 1 também em todos.\n",
    "\n",
    "Isso só reforça o que já sabemos, nosso modelo está enviesado, ele aprendeu mais sobre a classe que tinha uma maior quantidade de exemplos.\n",
    "\n",
    "A matriz de confusão nos mostra o número exato de registros classificados por classe.\n",
    "\n",
    "Temos 6 registos classificados como sendo da classe 0 quando na verdade eram da classe 1. (Decison Tree e Random Forest);\n",
    "Temos 5 registos classificados como sendo da classe 0 quando na verdade eram da classe 1. (SVM)."
   ]
  },
  {
   "cell_type": "markdown",
   "metadata": {},
   "source": [
    "# Aplicando NearMiss para Balanceamento das Classes\n",
    "Como foi mostrado no histograma das classes Doador e Não doador existe um desbalancemento grande entres as classes. O que comprometeu nossa previsão como é constatada pelo recall e também na matriz e confusão, sendo assim foi utilizado o NearMiss que é um algoritmo de undersampling que consiste em reduzir de forma aleatória os exemplos da classe majoritária. Ele seleciona os exemplos com base na distância, ou seja, quando instâncias das duas classes estão muito próximas umas das outras, removemos as instâncias da classe majoritária para termos uma maior separabilidade entre as classes."
   ]
  },
  {
   "cell_type": "code",
   "execution_count": 30,
   "metadata": {},
   "outputs": [],
   "source": [
    "X = df.drop(\"Category\", axis = 1)\n",
    "y = df.Category"
   ]
  },
  {
   "cell_type": "code",
   "execution_count": 31,
   "metadata": {},
   "outputs": [],
   "source": [
    "nr = NearMiss()"
   ]
  },
  {
   "cell_type": "code",
   "execution_count": 32,
   "metadata": {},
   "outputs": [],
   "source": [
    "X, y = nr.fit_sample(X, y)"
   ]
  },
  {
   "cell_type": "code",
   "execution_count": 33,
   "metadata": {},
   "outputs": [
    {
     "data": {
      "image/png": "[encoded data removed]",
      "text/plain": [
       "<Figure size 432x288 with 1 Axes>"
      ]
     },
     "metadata": {
      "needs_background": "light"
     },
     "output_type": "display_data"
    }
   ],
   "source": [
    "ax = sns.countplot(x=y)"
   ]
  },
  {
   "cell_type": "code",
   "execution_count": 34,
   "metadata": {},
   "outputs": [
    {
     "name": "stdout",
     "output_type": "stream",
     "text": [
      "1    64\n",
      "0    64\n",
      "Name: Category, dtype: int64\n"
     ]
    },
    {
     "data": {
      "text/plain": [
       "<AxesSubplot:ylabel='Frequency'>"
      ]
     },
     "execution_count": 34,
     "metadata": {},
     "output_type": "execute_result"
    },
    {
     "data": {
      "image/png": "[encoded data removed]",
      "text/plain": [
       "<Figure size 432x288 with 1 Axes>"
      ]
     },
     "metadata": {
      "needs_background": "light"
     },
     "output_type": "display_data"
    }
   ],
   "source": [
    "print(y.value_counts())\n",
    "y.plot(kind='hist')"
   ]
  },
  {
   "cell_type": "markdown",
   "metadata": {},
   "source": [
    "# Separando as classes balanceadas em treino e teste\n",
    "Da mesma forma que para os dados Não balanceados, os dados foram divididos em 70% para treino e 30% para teste."
   ]
  },
  {
   "cell_type": "code",
   "execution_count": 35,
   "metadata": {},
   "outputs": [],
   "source": [
    "X_train, X_test, y_train, y_test = train_test_split(X, y, random_state = 1, stratify=y)"
   ]
  },
  {
   "cell_type": "markdown",
   "metadata": {},
   "source": [
    "# Algoritmos Supervisionados nas classes balanceadas\n",
    "A seguir, é possivel notar que após o balanceamento das classes a acurácia diminuio para o Decison tree e para o SVM, e aumentou para o Randon Forest. "
   ]
  },
  {
   "cell_type": "code",
   "execution_count": 36,
   "metadata": {},
   "outputs": [
    {
     "name": "stdout",
     "output_type": "stream",
     "text": [
      "Accuracy: 90.62 %\n",
      "Sensibility score: 0.93\n",
      "Specificity score: 0.88\n",
      "Confusion matrix:\n",
      " [[15  1]\n",
      " [ 2 14]]\n"
     ]
    }
   ],
   "source": [
    "classifier_dt = DecisionTreeClassifier(random_state=1986, criterion='gini', max_depth=3).fit(X_train, y_train)\n",
    "\n",
    "predict_dt = classifier_dt.predict(X_test)\n",
    "\n",
    "print(\"Accuracy:\", round(classifier_dt.score(X_test, y_test)*100, 2),'%')\n",
    "\n",
    "print(\"Sensibility score:\", round(metrics.precision_score(y_test, predict_dt), 2))\n",
    "print(\"Specificity score:\", round(metrics.recall_score(y_test, predict_dt), 2))\n",
    "\n",
    "cm_decision = metrics.confusion_matrix(y_test, predict_dt)\n",
    "print(\"Confusion matrix:\\n\", cm_decision)"
   ]
  },
  {
   "cell_type": "code",
   "execution_count": 37,
   "metadata": {},
   "outputs": [
    {
     "name": "stdout",
     "output_type": "stream",
     "text": [
      "Accuracy: 96.88 %\n",
      "Sensibility score: 1.0\n",
      "Specificity score: 0.94\n",
      "Confusion matrix:\n",
      " [[16  0]\n",
      " [ 1 15]]\n"
     ]
    }
   ],
   "source": [
    "classifier_rf = RandomForestClassifier(n_jobs=1, random_state=5, n_estimators=10).fit(X_train, y_train)\n",
    "\n",
    "predict_rf = classifier_rf.predict(X_test)\n",
    "\n",
    "print(\"Accuracy:\", round(classifier_rf.score(X_test, y_test)*100, 2),'%')\n",
    "\n",
    "print(\"Sensibility score:\", round(metrics.precision_score(y_test, predict_rf), 2))\n",
    "print(\"Specificity score:\", round(metrics.recall_score(y_test, predict_rf), 2))\n",
    "\n",
    "cm_random = metrics.confusion_matrix(y_test, predict_rf)\n",
    "print(\"Confusion matrix:\\n\", cm_random)"
   ]
  },
  {
   "cell_type": "code",
   "execution_count": 38,
   "metadata": {},
   "outputs": [
    {
     "name": "stdout",
     "output_type": "stream",
     "text": [
      "Accuracy: 87.5 %\n",
      "Sensibility score: 0.93\n",
      "Specificity score: 0.81\n",
      "Confusion matrix:\n",
      " [[15  1]\n",
      " [ 3 13]]\n"
     ]
    }
   ],
   "source": [
    "classifier_svm = svm.SVC(kernel='linear', C=10).fit(X_train, y_train)\n",
    "\n",
    "predict_svm = classifier_svm.predict(X_test)\n",
    "\n",
    "print(\"Accuracy:\", round(classifier_svm.score(X_test, y_test)*100, 2),'%')\n",
    "\n",
    "print(\"Sensibility score:\", round(metrics.precision_score(y_test, predict_svm), 2))\n",
    "print(\"Specificity score:\", round(metrics.recall_score(y_test, predict_svm), 2))\n",
    "\n",
    "svm_decision = metrics.confusion_matrix(y_test, predict_svm)\n",
    "print(\"Confusion matrix:\\n\", svm_decision)"
   ]
  },
  {
   "cell_type": "code",
   "execution_count": 39,
   "metadata": {},
   "outputs": [
    {
     "name": "stdout",
     "output_type": "stream",
     "text": [
      "              precision    recall  f1-score   support\n",
      "\n",
      "           0       0.88      0.94      0.91        16\n",
      "           1       0.93      0.88      0.90        16\n",
      "\n",
      "    accuracy                           0.91        32\n",
      "   macro avg       0.91      0.91      0.91        32\n",
      "weighted avg       0.91      0.91      0.91        32\n",
      "\n",
      "              precision    recall  f1-score   support\n",
      "\n",
      "           0       0.94      1.00      0.97        16\n",
      "           1       1.00      0.94      0.97        16\n",
      "\n",
      "    accuracy                           0.97        32\n",
      "   macro avg       0.97      0.97      0.97        32\n",
      "weighted avg       0.97      0.97      0.97        32\n",
      "\n",
      "              precision    recall  f1-score   support\n",
      "\n",
      "           0       0.83      0.94      0.88        16\n",
      "           1       0.93      0.81      0.87        16\n",
      "\n",
      "    accuracy                           0.88        32\n",
      "   macro avg       0.88      0.88      0.87        32\n",
      "weighted avg       0.88      0.88      0.87        32\n",
      "\n"
     ]
    }
   ],
   "source": [
    "print(metrics.classification_report(y_test, predict_dt))\n",
    "print(metrics.classification_report(y_test, predict_rf))\n",
    "print(metrics.classification_report(y_test, predict_svm))"
   ]
  },
  {
   "cell_type": "markdown",
   "metadata": {},
   "source": [
    "É bastante perceptivel que após o balanceamento das classes o recall da classe 1 melhorou significativamente em todos os algoritmos, pois agora temos a mesma quantidade de exemplos para ambas as classes.\n",
    "\n",
    "Percebe-se também através da análise das matrizes de confussão dos 3 algoritmos que o número de registros errados é quase que o mesmo para as duas classes, podemos dizer que nosso modelo não está mais enviesado nesse cenário.\n",
    "\n",
    "E que não houve grandes diferenças entre o Decission tree e Random Forest neste caso."
   ]
  }
 ],
 "metadata": {
  "kernelspec": {
   "display_name": "Python 3",
   "language": "python",
   "name": "python3"
  },
  "language_info": {
   "codemirror_mode": {
    "name": "ipython",
    "version": 3
   },
   "file_extension": ".py",
   "mimetype": "text/x-python",
   "name": "python",
   "nbconvert_exporter": "python",
   "pygments_lexer": "ipython3",
   "version": "3.8.5"
  }
 },
 "nbformat": 4,
 "nbformat_minor": 4
}
